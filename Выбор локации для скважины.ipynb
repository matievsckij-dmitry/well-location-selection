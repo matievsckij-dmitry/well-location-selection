{
 "cells": [
  {
   "cell_type": "markdown",
   "metadata": {},
   "source": [
    "# Выбор локации для скважины"
   ]
  },
  {
   "cell_type": "markdown",
   "metadata": {},
   "source": [
    "**Описание проекта**"
   ]
  },
  {
   "cell_type": "markdown",
   "metadata": {},
   "source": [
    "Допустим, вы работаете в добывающей компании «ГлавРосГосНефть». Нужно решить, где бурить новую скважину.\n",
    "\n",
    "Вам предоставлены пробы нефти в трёх регионах: в каждом 10 000 месторождений, где измерили качество нефти и объём её запасов. Постройте модель машинного обучения, которая поможет определить регион, где добыча принесёт наибольшую прибыль. Проанализируйте возможную прибыль и риски техникой *Bootstrap.*\n",
    "\n",
    "Шаги для выбора локации:\n",
    "\n",
    "- В избранном регионе ищут месторождения, для каждого определяют значения признаков;\n",
    "- Строят модель и оценивают объём запасов;\n",
    "- Выбирают месторождения с самым высокими оценками значений. Количество месторождений зависит от бюджета компании и стоимости разработки одной скважины;\n",
    "- Прибыль равна суммарной прибыли отобранных месторождений."
   ]
  },
  {
   "cell_type": "markdown",
   "metadata": {},
   "source": [
    "Данные геологоразведки трёх регионов находятся в файлах: \n",
    "\n",
    "* /datasets/geo_data_0.csv,\n",
    "\n",
    "* /datasets/geo_data_1.csv,\n",
    "\n",
    "* /datasets/geo_data_2.csv,\n",
    "\n",
    "где: \n",
    "   * id — уникальный идентификатор скважины;\n",
    "   * f0, f1, f2 — три признака точек (неважно, что они означают, но сами признаки значимы);\n",
    "   * product — объём запасов в скважине (тыс. баррелей)."
   ]
  },
  {
   "cell_type": "markdown",
   "metadata": {},
   "source": [
    "**Условия задачи:**\n",
    "\n",
    "* Для обучения модели подходит только линейная регрессия (остальные — недостаточно предсказуемые).\n",
    "* При разведке региона исследуют 500 точек, из которых с помощью машинного обучения выбирают 200 лучших для разработки.\n",
    "* Бюджет на разработку скважин в регионе — 10 млрд рублей.\n",
    "* При нынешних ценах один баррель сырья приносит 450 рублей дохода. Доход с каждой единицы продукта составляет 450 тыс. рублей, поскольку объём указан в тысячах баррелей.\n",
    "* После оценки рисков нужно оставить лишь те регионы, в которых вероятность убытков меньше 2.5%. Среди них выбирают регион с наибольшей средней прибылью.\n",
    "* Данные синтетические: детали контрактов и характеристики месторождений не разглашаются."
   ]
  },
  {
   "cell_type": "markdown",
   "metadata": {},
   "source": [
    "**Библиотеки и константы**"
   ]
  },
  {
   "cell_type": "code",
   "execution_count": 1,
   "metadata": {},
   "outputs": [],
   "source": [
    "!pip install --upgrade scikit-learn -q\n",
    "!pip install phik -q\n",
    "!pip install shap -q\n",
    "!pip install imblearn -q\n",
    "\n",
    "import numpy as np\n",
    "import pandas as pd\n",
    "import matplotlib.pyplot as plt\n",
    "import matplotlib as mpl\n",
    "import seaborn as sns\n",
    "import phik\n",
    "import sklearn\n",
    "\n",
    "from sklearn.pipeline import Pipeline, make_pipeline\n",
    "from sklearn.model_selection import train_test_split, GridSearchCV\n",
    "from sklearn.preprocessing import OneHotEncoder, OrdinalEncoder, StandardScaler, MinMaxScaler\n",
    "from sklearn.compose import ColumnTransformer\n",
    "from sklearn.impute import SimpleImputer\n",
    "from imblearn.over_sampling import SMOTE\n",
    "\n",
    "from sklearn.linear_model import LinearRegression\n",
    "\n",
    "from sklearn.metrics import r2_score, mean_squared_error\n",
    "\n",
    "import warnings\n",
    "\n",
    "warnings.filterwarnings(\"ignore\")\n",
    "mpl.style.use(['bmh'])\n"
   ]
  },
  {
   "cell_type": "code",
   "execution_count": 2,
   "metadata": {},
   "outputs": [],
   "source": [
    "RANDOM_STATE = 42\n",
    "TEST_SIZE = 0.25"
   ]
  },
  {
   "cell_type": "markdown",
   "metadata": {},
   "source": [
    "## Загрузка и подготовка данных"
   ]
  },
  {
   "cell_type": "code",
   "execution_count": 3,
   "metadata": {},
   "outputs": [],
   "source": [
    "try:\n",
    "    df_0 = pd.read_csv('geo_data_0.csv')\n",
    "except:\n",
    "    df_0 = pd.read_csv('/datasets/geo_data_0.csv')\n",
    "try:\n",
    "    df_1 = pd.read_csv('geo_data_1.csv')\n",
    "except:\n",
    "    df_1 = pd.read_csv('/datasets/geo_data_1.csv')\n",
    "try:\n",
    "    df_2 = pd.read_csv('geo_data_2.csv')\n",
    "except:\n",
    "    df_2 = pd.read_csv('/datasets/geo_data_2.csv')"
   ]
  },
  {
   "cell_type": "markdown",
   "metadata": {},
   "source": [
    "**df_0**"
   ]
  },
  {
   "cell_type": "code",
   "execution_count": 4,
   "metadata": {},
   "outputs": [
    {
     "data": {
      "text/html": [
       "<div>\n",
       "<style scoped>\n",
       "    .dataframe tbody tr th:only-of-type {\n",
       "        vertical-align: middle;\n",
       "    }\n",
       "\n",
       "    .dataframe tbody tr th {\n",
       "        vertical-align: top;\n",
       "    }\n",
       "\n",
       "    .dataframe thead th {\n",
       "        text-align: right;\n",
       "    }\n",
       "</style>\n",
       "<table border=\"1\" class=\"dataframe\">\n",
       "  <thead>\n",
       "    <tr style=\"text-align: right;\">\n",
       "      <th></th>\n",
       "      <th>id</th>\n",
       "      <th>f0</th>\n",
       "      <th>f1</th>\n",
       "      <th>f2</th>\n",
       "      <th>product</th>\n",
       "    </tr>\n",
       "  </thead>\n",
       "  <tbody>\n",
       "    <tr>\n",
       "      <th>0</th>\n",
       "      <td>txEyH</td>\n",
       "      <td>0.705745</td>\n",
       "      <td>-0.497823</td>\n",
       "      <td>1.221170</td>\n",
       "      <td>105.280062</td>\n",
       "    </tr>\n",
       "    <tr>\n",
       "      <th>1</th>\n",
       "      <td>2acmU</td>\n",
       "      <td>1.334711</td>\n",
       "      <td>-0.340164</td>\n",
       "      <td>4.365080</td>\n",
       "      <td>73.037750</td>\n",
       "    </tr>\n",
       "    <tr>\n",
       "      <th>2</th>\n",
       "      <td>409Wp</td>\n",
       "      <td>1.022732</td>\n",
       "      <td>0.151990</td>\n",
       "      <td>1.419926</td>\n",
       "      <td>85.265647</td>\n",
       "    </tr>\n",
       "    <tr>\n",
       "      <th>3</th>\n",
       "      <td>iJLyR</td>\n",
       "      <td>-0.032172</td>\n",
       "      <td>0.139033</td>\n",
       "      <td>2.978566</td>\n",
       "      <td>168.620776</td>\n",
       "    </tr>\n",
       "    <tr>\n",
       "      <th>4</th>\n",
       "      <td>Xdl7t</td>\n",
       "      <td>1.988431</td>\n",
       "      <td>0.155413</td>\n",
       "      <td>4.751769</td>\n",
       "      <td>154.036647</td>\n",
       "    </tr>\n",
       "  </tbody>\n",
       "</table>\n",
       "</div>"
      ],
      "text/plain": [
       "      id        f0        f1        f2     product\n",
       "0  txEyH  0.705745 -0.497823  1.221170  105.280062\n",
       "1  2acmU  1.334711 -0.340164  4.365080   73.037750\n",
       "2  409Wp  1.022732  0.151990  1.419926   85.265647\n",
       "3  iJLyR -0.032172  0.139033  2.978566  168.620776\n",
       "4  Xdl7t  1.988431  0.155413  4.751769  154.036647"
      ]
     },
     "execution_count": 4,
     "metadata": {},
     "output_type": "execute_result"
    }
   ],
   "source": [
    "df_0.head()"
   ]
  },
  {
   "cell_type": "markdown",
   "metadata": {},
   "source": [
    "В датафрейме df_0 данные соответствуют описанию. "
   ]
  },
  {
   "cell_type": "code",
   "execution_count": 5,
   "metadata": {},
   "outputs": [
    {
     "name": "stdout",
     "output_type": "stream",
     "text": [
      "<class 'pandas.core.frame.DataFrame'>\n",
      "RangeIndex: 100000 entries, 0 to 99999\n",
      "Data columns (total 5 columns):\n",
      " #   Column   Non-Null Count   Dtype  \n",
      "---  ------   --------------   -----  \n",
      " 0   id       100000 non-null  object \n",
      " 1   f0       100000 non-null  float64\n",
      " 2   f1       100000 non-null  float64\n",
      " 3   f2       100000 non-null  float64\n",
      " 4   product  100000 non-null  float64\n",
      "dtypes: float64(4), object(1)\n",
      "memory usage: 3.8+ MB\n"
     ]
    }
   ],
   "source": [
    "df_0.info()"
   ]
  },
  {
   "cell_type": "markdown",
   "metadata": {},
   "source": [
    "Датафрейм df_0 состоит из 100 000 наблюдений и 4 переменных. Пропусков в данных нет. Типы данных соответствуют описанию."
   ]
  },
  {
   "cell_type": "code",
   "execution_count": 6,
   "metadata": {},
   "outputs": [
    {
     "data": {
      "text/html": [
       "<div>\n",
       "<style scoped>\n",
       "    .dataframe tbody tr th:only-of-type {\n",
       "        vertical-align: middle;\n",
       "    }\n",
       "\n",
       "    .dataframe tbody tr th {\n",
       "        vertical-align: top;\n",
       "    }\n",
       "\n",
       "    .dataframe thead th {\n",
       "        text-align: right;\n",
       "    }\n",
       "</style>\n",
       "<table border=\"1\" class=\"dataframe\">\n",
       "  <thead>\n",
       "    <tr style=\"text-align: right;\">\n",
       "      <th></th>\n",
       "      <th>f0</th>\n",
       "      <th>f1</th>\n",
       "      <th>f2</th>\n",
       "      <th>product</th>\n",
       "    </tr>\n",
       "  </thead>\n",
       "  <tbody>\n",
       "    <tr>\n",
       "      <th>count</th>\n",
       "      <td>100000.000000</td>\n",
       "      <td>100000.000000</td>\n",
       "      <td>100000.000000</td>\n",
       "      <td>100000.000000</td>\n",
       "    </tr>\n",
       "    <tr>\n",
       "      <th>mean</th>\n",
       "      <td>0.500419</td>\n",
       "      <td>0.250143</td>\n",
       "      <td>2.502647</td>\n",
       "      <td>92.500000</td>\n",
       "    </tr>\n",
       "    <tr>\n",
       "      <th>std</th>\n",
       "      <td>0.871832</td>\n",
       "      <td>0.504433</td>\n",
       "      <td>3.248248</td>\n",
       "      <td>44.288691</td>\n",
       "    </tr>\n",
       "    <tr>\n",
       "      <th>min</th>\n",
       "      <td>-1.408605</td>\n",
       "      <td>-0.848218</td>\n",
       "      <td>-12.088328</td>\n",
       "      <td>0.000000</td>\n",
       "    </tr>\n",
       "    <tr>\n",
       "      <th>25%</th>\n",
       "      <td>-0.072580</td>\n",
       "      <td>-0.200881</td>\n",
       "      <td>0.287748</td>\n",
       "      <td>56.497507</td>\n",
       "    </tr>\n",
       "    <tr>\n",
       "      <th>50%</th>\n",
       "      <td>0.502360</td>\n",
       "      <td>0.250252</td>\n",
       "      <td>2.515969</td>\n",
       "      <td>91.849972</td>\n",
       "    </tr>\n",
       "    <tr>\n",
       "      <th>75%</th>\n",
       "      <td>1.073581</td>\n",
       "      <td>0.700646</td>\n",
       "      <td>4.715088</td>\n",
       "      <td>128.564089</td>\n",
       "    </tr>\n",
       "    <tr>\n",
       "      <th>max</th>\n",
       "      <td>2.362331</td>\n",
       "      <td>1.343769</td>\n",
       "      <td>16.003790</td>\n",
       "      <td>185.364347</td>\n",
       "    </tr>\n",
       "  </tbody>\n",
       "</table>\n",
       "</div>"
      ],
      "text/plain": [
       "                  f0             f1             f2        product\n",
       "count  100000.000000  100000.000000  100000.000000  100000.000000\n",
       "mean        0.500419       0.250143       2.502647      92.500000\n",
       "std         0.871832       0.504433       3.248248      44.288691\n",
       "min        -1.408605      -0.848218     -12.088328       0.000000\n",
       "25%        -0.072580      -0.200881       0.287748      56.497507\n",
       "50%         0.502360       0.250252       2.515969      91.849972\n",
       "75%         1.073581       0.700646       4.715088     128.564089\n",
       "max         2.362331       1.343769      16.003790     185.364347"
      ]
     },
     "execution_count": 6,
     "metadata": {},
     "output_type": "execute_result"
    }
   ],
   "source": [
    "df_0.describe()"
   ]
  },
  {
   "cell_type": "markdown",
   "metadata": {},
   "source": [
    "Поскольку значения признаков f0, f1, f2 нам неизвестны, сложно оценить их числовые диапазоны.  Признак product (объем запасов в скважине, тыс. баррелей) принимает значения от 0 до 185. Положительным моментом является отсутствие отрицательных значений."
   ]
  },
  {
   "cell_type": "markdown",
   "metadata": {},
   "source": [
    "**df_1**"
   ]
  },
  {
   "cell_type": "code",
   "execution_count": 7,
   "metadata": {},
   "outputs": [
    {
     "data": {
      "text/html": [
       "<div>\n",
       "<style scoped>\n",
       "    .dataframe tbody tr th:only-of-type {\n",
       "        vertical-align: middle;\n",
       "    }\n",
       "\n",
       "    .dataframe tbody tr th {\n",
       "        vertical-align: top;\n",
       "    }\n",
       "\n",
       "    .dataframe thead th {\n",
       "        text-align: right;\n",
       "    }\n",
       "</style>\n",
       "<table border=\"1\" class=\"dataframe\">\n",
       "  <thead>\n",
       "    <tr style=\"text-align: right;\">\n",
       "      <th></th>\n",
       "      <th>id</th>\n",
       "      <th>f0</th>\n",
       "      <th>f1</th>\n",
       "      <th>f2</th>\n",
       "      <th>product</th>\n",
       "    </tr>\n",
       "  </thead>\n",
       "  <tbody>\n",
       "    <tr>\n",
       "      <th>0</th>\n",
       "      <td>kBEdx</td>\n",
       "      <td>-15.001348</td>\n",
       "      <td>-8.276000</td>\n",
       "      <td>-0.005876</td>\n",
       "      <td>3.179103</td>\n",
       "    </tr>\n",
       "    <tr>\n",
       "      <th>1</th>\n",
       "      <td>62mP7</td>\n",
       "      <td>14.272088</td>\n",
       "      <td>-3.475083</td>\n",
       "      <td>0.999183</td>\n",
       "      <td>26.953261</td>\n",
       "    </tr>\n",
       "    <tr>\n",
       "      <th>2</th>\n",
       "      <td>vyE1P</td>\n",
       "      <td>6.263187</td>\n",
       "      <td>-5.948386</td>\n",
       "      <td>5.001160</td>\n",
       "      <td>134.766305</td>\n",
       "    </tr>\n",
       "    <tr>\n",
       "      <th>3</th>\n",
       "      <td>KcrkZ</td>\n",
       "      <td>-13.081196</td>\n",
       "      <td>-11.506057</td>\n",
       "      <td>4.999415</td>\n",
       "      <td>137.945408</td>\n",
       "    </tr>\n",
       "    <tr>\n",
       "      <th>4</th>\n",
       "      <td>AHL4O</td>\n",
       "      <td>12.702195</td>\n",
       "      <td>-8.147433</td>\n",
       "      <td>5.004363</td>\n",
       "      <td>134.766305</td>\n",
       "    </tr>\n",
       "  </tbody>\n",
       "</table>\n",
       "</div>"
      ],
      "text/plain": [
       "      id         f0         f1        f2     product\n",
       "0  kBEdx -15.001348  -8.276000 -0.005876    3.179103\n",
       "1  62mP7  14.272088  -3.475083  0.999183   26.953261\n",
       "2  vyE1P   6.263187  -5.948386  5.001160  134.766305\n",
       "3  KcrkZ -13.081196 -11.506057  4.999415  137.945408\n",
       "4  AHL4O  12.702195  -8.147433  5.004363  134.766305"
      ]
     },
     "execution_count": 7,
     "metadata": {},
     "output_type": "execute_result"
    }
   ],
   "source": [
    "df_1.head()"
   ]
  },
  {
   "cell_type": "markdown",
   "metadata": {},
   "source": [
    "В датафрейме df_1 данные соответствуют описанию. "
   ]
  },
  {
   "cell_type": "code",
   "execution_count": 8,
   "metadata": {},
   "outputs": [
    {
     "name": "stdout",
     "output_type": "stream",
     "text": [
      "<class 'pandas.core.frame.DataFrame'>\n",
      "RangeIndex: 100000 entries, 0 to 99999\n",
      "Data columns (total 5 columns):\n",
      " #   Column   Non-Null Count   Dtype  \n",
      "---  ------   --------------   -----  \n",
      " 0   id       100000 non-null  object \n",
      " 1   f0       100000 non-null  float64\n",
      " 2   f1       100000 non-null  float64\n",
      " 3   f2       100000 non-null  float64\n",
      " 4   product  100000 non-null  float64\n",
      "dtypes: float64(4), object(1)\n",
      "memory usage: 3.8+ MB\n"
     ]
    }
   ],
   "source": [
    "df_1.info()"
   ]
  },
  {
   "cell_type": "markdown",
   "metadata": {},
   "source": [
    "Датафрейм df_1 состоит из 100 000 наблюдений и 4 переменных. Пропусков в данных нет. Типы данных соответствуют описанию."
   ]
  },
  {
   "cell_type": "code",
   "execution_count": 9,
   "metadata": {},
   "outputs": [
    {
     "data": {
      "text/html": [
       "<div>\n",
       "<style scoped>\n",
       "    .dataframe tbody tr th:only-of-type {\n",
       "        vertical-align: middle;\n",
       "    }\n",
       "\n",
       "    .dataframe tbody tr th {\n",
       "        vertical-align: top;\n",
       "    }\n",
       "\n",
       "    .dataframe thead th {\n",
       "        text-align: right;\n",
       "    }\n",
       "</style>\n",
       "<table border=\"1\" class=\"dataframe\">\n",
       "  <thead>\n",
       "    <tr style=\"text-align: right;\">\n",
       "      <th></th>\n",
       "      <th>f0</th>\n",
       "      <th>f1</th>\n",
       "      <th>f2</th>\n",
       "      <th>product</th>\n",
       "    </tr>\n",
       "  </thead>\n",
       "  <tbody>\n",
       "    <tr>\n",
       "      <th>count</th>\n",
       "      <td>100000.000000</td>\n",
       "      <td>100000.000000</td>\n",
       "      <td>100000.000000</td>\n",
       "      <td>100000.000000</td>\n",
       "    </tr>\n",
       "    <tr>\n",
       "      <th>mean</th>\n",
       "      <td>1.141296</td>\n",
       "      <td>-4.796579</td>\n",
       "      <td>2.494541</td>\n",
       "      <td>68.825000</td>\n",
       "    </tr>\n",
       "    <tr>\n",
       "      <th>std</th>\n",
       "      <td>8.965932</td>\n",
       "      <td>5.119872</td>\n",
       "      <td>1.703572</td>\n",
       "      <td>45.944423</td>\n",
       "    </tr>\n",
       "    <tr>\n",
       "      <th>min</th>\n",
       "      <td>-31.609576</td>\n",
       "      <td>-26.358598</td>\n",
       "      <td>-0.018144</td>\n",
       "      <td>0.000000</td>\n",
       "    </tr>\n",
       "    <tr>\n",
       "      <th>25%</th>\n",
       "      <td>-6.298551</td>\n",
       "      <td>-8.267985</td>\n",
       "      <td>1.000021</td>\n",
       "      <td>26.953261</td>\n",
       "    </tr>\n",
       "    <tr>\n",
       "      <th>50%</th>\n",
       "      <td>1.153055</td>\n",
       "      <td>-4.813172</td>\n",
       "      <td>2.011479</td>\n",
       "      <td>57.085625</td>\n",
       "    </tr>\n",
       "    <tr>\n",
       "      <th>75%</th>\n",
       "      <td>8.621015</td>\n",
       "      <td>-1.332816</td>\n",
       "      <td>3.999904</td>\n",
       "      <td>107.813044</td>\n",
       "    </tr>\n",
       "    <tr>\n",
       "      <th>max</th>\n",
       "      <td>29.421755</td>\n",
       "      <td>18.734063</td>\n",
       "      <td>5.019721</td>\n",
       "      <td>137.945408</td>\n",
       "    </tr>\n",
       "  </tbody>\n",
       "</table>\n",
       "</div>"
      ],
      "text/plain": [
       "                  f0             f1             f2        product\n",
       "count  100000.000000  100000.000000  100000.000000  100000.000000\n",
       "mean        1.141296      -4.796579       2.494541      68.825000\n",
       "std         8.965932       5.119872       1.703572      45.944423\n",
       "min       -31.609576     -26.358598      -0.018144       0.000000\n",
       "25%        -6.298551      -8.267985       1.000021      26.953261\n",
       "50%         1.153055      -4.813172       2.011479      57.085625\n",
       "75%         8.621015      -1.332816       3.999904     107.813044\n",
       "max        29.421755      18.734063       5.019721     137.945408"
      ]
     },
     "execution_count": 9,
     "metadata": {},
     "output_type": "execute_result"
    }
   ],
   "source": [
    "df_1.describe()"
   ]
  },
  {
   "cell_type": "markdown",
   "metadata": {},
   "source": [
    "**df_2**"
   ]
  },
  {
   "cell_type": "code",
   "execution_count": 10,
   "metadata": {},
   "outputs": [
    {
     "data": {
      "text/html": [
       "<div>\n",
       "<style scoped>\n",
       "    .dataframe tbody tr th:only-of-type {\n",
       "        vertical-align: middle;\n",
       "    }\n",
       "\n",
       "    .dataframe tbody tr th {\n",
       "        vertical-align: top;\n",
       "    }\n",
       "\n",
       "    .dataframe thead th {\n",
       "        text-align: right;\n",
       "    }\n",
       "</style>\n",
       "<table border=\"1\" class=\"dataframe\">\n",
       "  <thead>\n",
       "    <tr style=\"text-align: right;\">\n",
       "      <th></th>\n",
       "      <th>id</th>\n",
       "      <th>f0</th>\n",
       "      <th>f1</th>\n",
       "      <th>f2</th>\n",
       "      <th>product</th>\n",
       "    </tr>\n",
       "  </thead>\n",
       "  <tbody>\n",
       "    <tr>\n",
       "      <th>0</th>\n",
       "      <td>fwXo0</td>\n",
       "      <td>-1.146987</td>\n",
       "      <td>0.963328</td>\n",
       "      <td>-0.828965</td>\n",
       "      <td>27.758673</td>\n",
       "    </tr>\n",
       "    <tr>\n",
       "      <th>1</th>\n",
       "      <td>WJtFt</td>\n",
       "      <td>0.262778</td>\n",
       "      <td>0.269839</td>\n",
       "      <td>-2.530187</td>\n",
       "      <td>56.069697</td>\n",
       "    </tr>\n",
       "    <tr>\n",
       "      <th>2</th>\n",
       "      <td>ovLUW</td>\n",
       "      <td>0.194587</td>\n",
       "      <td>0.289035</td>\n",
       "      <td>-5.586433</td>\n",
       "      <td>62.871910</td>\n",
       "    </tr>\n",
       "    <tr>\n",
       "      <th>3</th>\n",
       "      <td>q6cA6</td>\n",
       "      <td>2.236060</td>\n",
       "      <td>-0.553760</td>\n",
       "      <td>0.930038</td>\n",
       "      <td>114.572842</td>\n",
       "    </tr>\n",
       "    <tr>\n",
       "      <th>4</th>\n",
       "      <td>WPMUX</td>\n",
       "      <td>-0.515993</td>\n",
       "      <td>1.716266</td>\n",
       "      <td>5.899011</td>\n",
       "      <td>149.600746</td>\n",
       "    </tr>\n",
       "  </tbody>\n",
       "</table>\n",
       "</div>"
      ],
      "text/plain": [
       "      id        f0        f1        f2     product\n",
       "0  fwXo0 -1.146987  0.963328 -0.828965   27.758673\n",
       "1  WJtFt  0.262778  0.269839 -2.530187   56.069697\n",
       "2  ovLUW  0.194587  0.289035 -5.586433   62.871910\n",
       "3  q6cA6  2.236060 -0.553760  0.930038  114.572842\n",
       "4  WPMUX -0.515993  1.716266  5.899011  149.600746"
      ]
     },
     "execution_count": 10,
     "metadata": {},
     "output_type": "execute_result"
    }
   ],
   "source": [
    "df_2.head()"
   ]
  },
  {
   "cell_type": "markdown",
   "metadata": {},
   "source": [
    "В датафрейме df_2 данные соответствуют описанию."
   ]
  },
  {
   "cell_type": "code",
   "execution_count": 11,
   "metadata": {},
   "outputs": [
    {
     "name": "stdout",
     "output_type": "stream",
     "text": [
      "<class 'pandas.core.frame.DataFrame'>\n",
      "RangeIndex: 100000 entries, 0 to 99999\n",
      "Data columns (total 5 columns):\n",
      " #   Column   Non-Null Count   Dtype  \n",
      "---  ------   --------------   -----  \n",
      " 0   id       100000 non-null  object \n",
      " 1   f0       100000 non-null  float64\n",
      " 2   f1       100000 non-null  float64\n",
      " 3   f2       100000 non-null  float64\n",
      " 4   product  100000 non-null  float64\n",
      "dtypes: float64(4), object(1)\n",
      "memory usage: 3.8+ MB\n"
     ]
    }
   ],
   "source": [
    "df_2.info()"
   ]
  },
  {
   "cell_type": "markdown",
   "metadata": {},
   "source": [
    "Датафрейм df_2 состоит из 100 000 наблюдений и 4 переменных. Пропусков в данных нет. Типы данных соответствуют описанию."
   ]
  },
  {
   "cell_type": "code",
   "execution_count": 12,
   "metadata": {},
   "outputs": [
    {
     "data": {
      "text/html": [
       "<div>\n",
       "<style scoped>\n",
       "    .dataframe tbody tr th:only-of-type {\n",
       "        vertical-align: middle;\n",
       "    }\n",
       "\n",
       "    .dataframe tbody tr th {\n",
       "        vertical-align: top;\n",
       "    }\n",
       "\n",
       "    .dataframe thead th {\n",
       "        text-align: right;\n",
       "    }\n",
       "</style>\n",
       "<table border=\"1\" class=\"dataframe\">\n",
       "  <thead>\n",
       "    <tr style=\"text-align: right;\">\n",
       "      <th></th>\n",
       "      <th>f0</th>\n",
       "      <th>f1</th>\n",
       "      <th>f2</th>\n",
       "      <th>product</th>\n",
       "    </tr>\n",
       "  </thead>\n",
       "  <tbody>\n",
       "    <tr>\n",
       "      <th>count</th>\n",
       "      <td>100000.000000</td>\n",
       "      <td>100000.000000</td>\n",
       "      <td>100000.000000</td>\n",
       "      <td>100000.000000</td>\n",
       "    </tr>\n",
       "    <tr>\n",
       "      <th>mean</th>\n",
       "      <td>0.002023</td>\n",
       "      <td>-0.002081</td>\n",
       "      <td>2.495128</td>\n",
       "      <td>95.000000</td>\n",
       "    </tr>\n",
       "    <tr>\n",
       "      <th>std</th>\n",
       "      <td>1.732045</td>\n",
       "      <td>1.730417</td>\n",
       "      <td>3.473445</td>\n",
       "      <td>44.749921</td>\n",
       "    </tr>\n",
       "    <tr>\n",
       "      <th>min</th>\n",
       "      <td>-8.760004</td>\n",
       "      <td>-7.084020</td>\n",
       "      <td>-11.970335</td>\n",
       "      <td>0.000000</td>\n",
       "    </tr>\n",
       "    <tr>\n",
       "      <th>25%</th>\n",
       "      <td>-1.162288</td>\n",
       "      <td>-1.174820</td>\n",
       "      <td>0.130359</td>\n",
       "      <td>59.450441</td>\n",
       "    </tr>\n",
       "    <tr>\n",
       "      <th>50%</th>\n",
       "      <td>0.009424</td>\n",
       "      <td>-0.009482</td>\n",
       "      <td>2.484236</td>\n",
       "      <td>94.925613</td>\n",
       "    </tr>\n",
       "    <tr>\n",
       "      <th>75%</th>\n",
       "      <td>1.158535</td>\n",
       "      <td>1.163678</td>\n",
       "      <td>4.858794</td>\n",
       "      <td>130.595027</td>\n",
       "    </tr>\n",
       "    <tr>\n",
       "      <th>max</th>\n",
       "      <td>7.238262</td>\n",
       "      <td>7.844801</td>\n",
       "      <td>16.739402</td>\n",
       "      <td>190.029838</td>\n",
       "    </tr>\n",
       "  </tbody>\n",
       "</table>\n",
       "</div>"
      ],
      "text/plain": [
       "                  f0             f1             f2        product\n",
       "count  100000.000000  100000.000000  100000.000000  100000.000000\n",
       "mean        0.002023      -0.002081       2.495128      95.000000\n",
       "std         1.732045       1.730417       3.473445      44.749921\n",
       "min        -8.760004      -7.084020     -11.970335       0.000000\n",
       "25%        -1.162288      -1.174820       0.130359      59.450441\n",
       "50%         0.009424      -0.009482       2.484236      94.925613\n",
       "75%         1.158535       1.163678       4.858794     130.595027\n",
       "max         7.238262       7.844801      16.739402     190.029838"
      ]
     },
     "execution_count": 12,
     "metadata": {},
     "output_type": "execute_result"
    }
   ],
   "source": [
    "df_2.describe()"
   ]
  },
  {
   "cell_type": "markdown",
   "metadata": {},
   "source": [
    "Числовые диапазоны, которые принимают признаки f0, f1, f2, различаются для разных регионов."
   ]
  },
  {
   "cell_type": "markdown",
   "metadata": {},
   "source": [
    "Проверим отсутствие дубликатов."
   ]
  },
  {
   "cell_type": "code",
   "execution_count": 13,
   "metadata": {},
   "outputs": [
    {
     "name": "stdout",
     "output_type": "stream",
     "text": [
      "Количество дубликатов: 0\n",
      "Количество дубликатов: 0\n",
      "Количество дубликатов: 0\n"
     ]
    }
   ],
   "source": [
    "df_list = [df_0, df_1, df_2]\n",
    "\n",
    "for df in df_list:\n",
    "    print(f'Количество дубликатов: {df.duplicated().sum()}')"
   ]
  },
  {
   "cell_type": "markdown",
   "metadata": {},
   "source": [
    "<div style=\"background-color: PaleTurquoise; padding: 20px\"> <b>Вывод:</b> в данном разделе были загружены данные для трёх регионов в датасеты df_0, df_1 и df_2. Пропуски в данных отсутствуют, данные соответствуют описанию, дубликаты не обнаружены, типы данных соответствуют описанию. Далее мы рассмотрим распределения данных и проведём корреляционный анализ.\n",
    "</div>"
   ]
  },
  {
   "cell_type": "markdown",
   "metadata": {},
   "source": [
    "##  Исследовательский и корреляционный анализ"
   ]
  },
  {
   "cell_type": "markdown",
   "metadata": {},
   "source": [
    "Напишем функцию **creating_graph** для автоматического построения графика распределения."
   ]
  },
  {
   "cell_type": "code",
   "execution_count": 14,
   "metadata": {},
   "outputs": [],
   "source": [
    "def creating_graph(df, column, bins=(df.shape[0] // 300)):\n",
    "    \"\"\"\n",
    "    Визуализирует распределение данных в заданном столбце датафрейма.\n",
    "\n",
    "  Args:\n",
    "    df: pandas.DataFrame, датафрейм, содержащий данные.\n",
    "    column: str, название столбца, для которого нужно построить визуализацию.\n",
    "    bins: int, количество корзин для гистограммы.\n",
    "\n",
    "  Returns:\n",
    "    Функция отображает график в зависимости от типа столбца (категориальный, дискретный, непрерывный).\n",
    "    \"\"\"\n",
    "    if df[column].dtypes == 'int64' or df[column].dtypes == 'float64':\n",
    "        \n",
    "        if df[column].nunique() <= 4:#дискретный\n",
    "            print(df[column].describe())\n",
    "            \n",
    "            pivot_table = df.pivot_table(index=column, \n",
    "                                   values='id', \n",
    "                                   aggfunc='count')\n",
    "\n",
    "            ax = pivot_table.plot(kind='bar', figsize=(12, 8))\n",
    "\n",
    "            for p in ax.patches:\n",
    "                ax.annotate(str(p.get_height()), (p.get_x() + p.get_width() / 2., p.get_height()),\n",
    "                            ha='center', va='center', xytext=(0, 10), textcoords='offset points')\n",
    "\n",
    "            plt.ylabel('Количество наблюдений')\n",
    "            plt.title('Распределение признака ' + column)\n",
    "            \n",
    "        else:#непрерывный\n",
    "            print(df[column].describe())\n",
    "        \n",
    "            fig = plt.figure(figsize=(12, 8))\n",
    "            grid = plt.GridSpec(4, 4, hspace=0.5, wspace=0.2)\n",
    "        \n",
    "            ax_main = fig.add_subplot(grid[:-1, :-1])\n",
    "            ax_bottom = fig.add_subplot(grid[-1, 0:-1], xticklabels=[], yticklabels=[])\n",
    "        \n",
    "            ax_main.hist(df[column], bins=bins, edgecolor='black')\n",
    "            sns.boxplot(x=df[column], ax=ax_bottom)\n",
    "            ax_main.set(title='Распределение признака ' + column, ylabel='Количество наблюдений')\n",
    "        \n",
    "    else:#категориальный\n",
    "        print(df[column].value_counts())\n",
    "        \n",
    "        fig = plt.figure(figsize=(12, 8))\n",
    "        df[column].value_counts().plot(kind = 'pie', autopct='%1.0f%%',\n",
    "                                       wedgeprops=dict(width=0.3),\n",
    "                                       title = 'Распределение признака ' + column, ylabel='')\n",
    "       \n",
    "    plt.show()"
   ]
  },
  {
   "cell_type": "markdown",
   "metadata": {},
   "source": [
    "Распределения будем рассматривать не для каждого датафрейма в отдельности, а в разрезе признаков, чтобы сравнить распределение признака для каждого датафрейма."
   ]
  },
  {
   "cell_type": "markdown",
   "metadata": {},
   "source": [
    "**f0**"
   ]
  },
  {
   "cell_type": "code",
   "execution_count": 15,
   "metadata": {},
   "outputs": [
    {
     "name": "stdout",
     "output_type": "stream",
     "text": [
      "count    100000.000000\n",
      "mean          0.500419\n",
      "std           0.871832\n",
      "min          -1.408605\n",
      "25%          -0.072580\n",
      "50%           0.502360\n",
      "75%           1.073581\n",
      "max           2.362331\n",
      "Name: f0, dtype: float64\n"
     ]
    },
    {
     "data": {
      "image/png": "[encoded data removed]",
      "text/plain": [
       "<Figure size 864x576 with 2 Axes>"
      ]
     },
     "metadata": {
      "needs_background": "light"
     },
     "output_type": "display_data"
    }
   ],
   "source": [
    "creating_graph(df_0, 'f0')"
   ]
  },
  {
   "cell_type": "markdown",
   "metadata": {},
   "source": [
    "Распределение признака f0 в датафрейме df_0 имеет полимодальный характер с четырьмя ярко выраженными вершинами. При этом распределение демонстрирует высокую степень симметричности.  Стоит отметить, что медиана и среднее значение признака совпадают и равны 0.5."
   ]
  },
  {
   "cell_type": "code",
   "execution_count": 16,
   "metadata": {},
   "outputs": [
    {
     "name": "stdout",
     "output_type": "stream",
     "text": [
      "count    100000.000000\n",
      "mean          1.141296\n",
      "std           8.965932\n",
      "min         -31.609576\n",
      "25%          -6.298551\n",
      "50%           1.153055\n",
      "75%           8.621015\n",
      "max          29.421755\n",
      "Name: f0, dtype: float64\n"
     ]
    },
    {
     "data": {
      "image/png": "[encoded data removed]",
      "text/plain": [
       "<Figure size 864x576 with 2 Axes>"
      ]
     },
     "metadata": {
      "needs_background": "light"
     },
     "output_type": "display_data"
    }
   ],
   "source": [
    "creating_graph(df_1, 'f0')"
   ]
  },
  {
   "cell_type": "markdown",
   "metadata": {},
   "source": [
    "Распределение признака f0 в датафрейме df_1 также имеет полимодальный характер, но с двумя вершинами.  Распределение сохраняет симметричность, однако диапазон принимаемых значений значительно шире по сравнению с df_0."
   ]
  },
  {
   "cell_type": "markdown",
   "metadata": {},
   "source": [
    "Также стоит отметить наличие значений, выходящих за пределы межквартильного размаха. Вероятно, такие значения будут встречаться и в дальнейшем.  Мы не будем предпринимать никаких действий в отношении этих значений."
   ]
  },
  {
   "cell_type": "code",
   "execution_count": 17,
   "metadata": {},
   "outputs": [
    {
     "name": "stdout",
     "output_type": "stream",
     "text": [
      "count    100000.000000\n",
      "mean          0.002023\n",
      "std           1.732045\n",
      "min          -8.760004\n",
      "25%          -1.162288\n",
      "50%           0.009424\n",
      "75%           1.158535\n",
      "max           7.238262\n",
      "Name: f0, dtype: float64\n"
     ]
    },
    {
     "data": {
      "image/png": "[encoded data removed]",
      "text/plain": [
       "<Figure size 864x576 with 2 Axes>"
      ]
     },
     "metadata": {
      "needs_background": "light"
     },
     "output_type": "display_data"
    }
   ],
   "source": [
    "creating_graph(df_2, 'f0')"
   ]
  },
  {
   "cell_type": "markdown",
   "metadata": {},
   "source": [
    "Распределение признака f0 в датафрейме df_2 близко к нормальному."
   ]
  },
  {
   "cell_type": "markdown",
   "metadata": {},
   "source": [
    "**f1**"
   ]
  },
  {
   "cell_type": "code",
   "execution_count": 18,
   "metadata": {},
   "outputs": [
    {
     "name": "stdout",
     "output_type": "stream",
     "text": [
      "count    100000.000000\n",
      "mean          0.250143\n",
      "std           0.504433\n",
      "min          -0.848218\n",
      "25%          -0.200881\n",
      "50%           0.250252\n",
      "75%           0.700646\n",
      "max           1.343769\n",
      "Name: f1, dtype: float64\n"
     ]
    },
    {
     "data": {
      "image/png": "[encoded data removed]",
      "text/plain": [
       "<Figure size 864x576 with 2 Axes>"
      ]
     },
     "metadata": {
      "needs_background": "light"
     },
     "output_type": "display_data"
    }
   ],
   "source": [
    "creating_graph(df_0, 'f1')"
   ]
  },
  {
   "cell_type": "markdown",
   "metadata": {},
   "source": [
    "Распределение признака f1 в датафрейме df_0 имеет полимодальный характер с тремя вершинами. При этом распределение демонстрирует высокую степень симметричности."
   ]
  },
  {
   "cell_type": "code",
   "execution_count": 19,
   "metadata": {},
   "outputs": [
    {
     "name": "stdout",
     "output_type": "stream",
     "text": [
      "count    100000.000000\n",
      "mean         -4.796579\n",
      "std           5.119872\n",
      "min         -26.358598\n",
      "25%          -8.267985\n",
      "50%          -4.813172\n",
      "75%          -1.332816\n",
      "max          18.734063\n",
      "Name: f1, dtype: float64\n"
     ]
    },
    {
     "data": {
      "image/png": "[encoded data removed]",
      "text/plain": [
       "<Figure size 864x576 with 2 Axes>"
      ]
     },
     "metadata": {
      "needs_background": "light"
     },
     "output_type": "display_data"
    }
   ],
   "source": [
    "creating_graph(df_1, 'f1')"
   ]
  },
  {
   "cell_type": "markdown",
   "metadata": {},
   "source": [
    "Распределение признака f1 в датафрейме df_1 близко к нормальному.При этом распределение симметрично. Медианное и среднее значение признака находятся в районе -4.8."
   ]
  },
  {
   "cell_type": "code",
   "execution_count": 20,
   "metadata": {},
   "outputs": [
    {
     "name": "stdout",
     "output_type": "stream",
     "text": [
      "count    100000.000000\n",
      "mean         -0.002081\n",
      "std           1.730417\n",
      "min          -7.084020\n",
      "25%          -1.174820\n",
      "50%          -0.009482\n",
      "75%           1.163678\n",
      "max           7.844801\n",
      "Name: f1, dtype: float64\n"
     ]
    },
    {
     "data": {
      "image/png": "[encoded data removed]",
      "text/plain": [
       "<Figure size 864x576 with 2 Axes>"
      ]
     },
     "metadata": {
      "needs_background": "light"
     },
     "output_type": "display_data"
    }
   ],
   "source": [
    "creating_graph(df_2, 'f1')"
   ]
  },
  {
   "cell_type": "markdown",
   "metadata": {},
   "source": [
    "Распределение признака f1 в датафрейме df_2 близко к нормальному. Медианное и среднее значение признака близки к 0, что указывает на симметричность данных."
   ]
  },
  {
   "cell_type": "markdown",
   "metadata": {},
   "source": [
    "**f2**"
   ]
  },
  {
   "cell_type": "code",
   "execution_count": 21,
   "metadata": {},
   "outputs": [
    {
     "name": "stdout",
     "output_type": "stream",
     "text": [
      "count    100000.000000\n",
      "mean          2.502647\n",
      "std           3.248248\n",
      "min         -12.088328\n",
      "25%           0.287748\n",
      "50%           2.515969\n",
      "75%           4.715088\n",
      "max          16.003790\n",
      "Name: f2, dtype: float64\n"
     ]
    },
    {
     "data": {
      "image/png": "[encoded data removed]",
      "text/plain": [
       "<Figure size 864x576 with 2 Axes>"
      ]
     },
     "metadata": {
      "needs_background": "light"
     },
     "output_type": "display_data"
    }
   ],
   "source": [
    "creating_graph(df_0, 'f2')"
   ]
  },
  {
   "cell_type": "markdown",
   "metadata": {},
   "source": [
    "Распределение признака f2 в датафрейме df_0 близко к нормальному. Медианное и среднее значение признака находятся в районе 2.5, что свидетельствует о симметричности данных."
   ]
  },
  {
   "cell_type": "code",
   "execution_count": 22,
   "metadata": {},
   "outputs": [
    {
     "name": "stdout",
     "output_type": "stream",
     "text": [
      "count    100000.000000\n",
      "mean          2.494541\n",
      "std           1.703572\n",
      "min          -0.018144\n",
      "25%           1.000021\n",
      "50%           2.011479\n",
      "75%           3.999904\n",
      "max           5.019721\n",
      "Name: f2, dtype: float64\n"
     ]
    },
    {
     "data": {
      "image/png": "[encoded data removed]",
      "text/plain": [
       "<Figure size 864x576 with 2 Axes>"
      ]
     },
     "metadata": {
      "needs_background": "light"
     },
     "output_type": "display_data"
    }
   ],
   "source": [
    "creating_graph(df_1, 'f2')"
   ]
  },
  {
   "cell_type": "markdown",
   "metadata": {},
   "source": [
    "Распределение признака f2 в датафрейме df_1 имеет необычный характер и существенно отличается от распределений в других регионах.  Предположительно, такая форма распределения обусловлена тем, что данные сгруппированы вокруг дискретных значений от 0 до 5 (6 значений) с определенным среднеквадратическим отклонением. "
   ]
  },
  {
   "cell_type": "code",
   "execution_count": 23,
   "metadata": {},
   "outputs": [
    {
     "name": "stdout",
     "output_type": "stream",
     "text": [
      "count    100000.000000\n",
      "mean          2.495128\n",
      "std           3.473445\n",
      "min         -11.970335\n",
      "25%           0.130359\n",
      "50%           2.484236\n",
      "75%           4.858794\n",
      "max          16.739402\n",
      "Name: f2, dtype: float64\n"
     ]
    },
    {
     "data": {
      "image/png": "[encoded data removed]",
      "text/plain": [
       "<Figure size 864x576 with 2 Axes>"
      ]
     },
     "metadata": {
      "needs_background": "light"
     },
     "output_type": "display_data"
    }
   ],
   "source": [
    "creating_graph(df_2, 'f2')"
   ]
  },
  {
   "cell_type": "markdown",
   "metadata": {},
   "source": [
    "Распределение признака f2 в датафрейме df_2 близко к нормальному. Медианное и среднее значение признака находятся в районе 2.5, что свидетельствует о симметричности данных."
   ]
  },
  {
   "cell_type": "markdown",
   "metadata": {},
   "source": [
    "**product**"
   ]
  },
  {
   "cell_type": "code",
   "execution_count": 24,
   "metadata": {},
   "outputs": [
    {
     "name": "stdout",
     "output_type": "stream",
     "text": [
      "count    100000.000000\n",
      "mean         92.500000\n",
      "std          44.288691\n",
      "min           0.000000\n",
      "25%          56.497507\n",
      "50%          91.849972\n",
      "75%         128.564089\n",
      "max         185.364347\n",
      "Name: product, dtype: float64\n"
     ]
    },
    {
     "data": {
      "image/png": "[encoded data removed]",
      "text/plain": [
       "<Figure size 864x576 with 2 Axes>"
      ]
     },
     "metadata": {
      "needs_background": "light"
     },
     "output_type": "display_data"
    }
   ],
   "source": [
    "creating_graph(df_0, 'product')"
   ]
  },
  {
   "cell_type": "markdown",
   "metadata": {},
   "source": [
    "Распределение целевого признака product в датафрейме df_0 имеет полимодальный характер с восемью вершинами."
   ]
  },
  {
   "cell_type": "code",
   "execution_count": 25,
   "metadata": {},
   "outputs": [
    {
     "name": "stdout",
     "output_type": "stream",
     "text": [
      "count    100000.000000\n",
      "mean         68.825000\n",
      "std          45.944423\n",
      "min           0.000000\n",
      "25%          26.953261\n",
      "50%          57.085625\n",
      "75%         107.813044\n",
      "max         137.945408\n",
      "Name: product, dtype: float64\n"
     ]
    },
    {
     "data": {
      "image/png": "[encoded data removed]",
      "text/plain": [
       "<Figure size 864x576 with 2 Axes>"
      ]
     },
     "metadata": {
      "needs_background": "light"
     },
     "output_type": "display_data"
    }
   ],
   "source": [
    "creating_graph(df_1, 'product')"
   ]
  },
  {
   "cell_type": "markdown",
   "metadata": {},
   "source": [
    "Также наблюдается нестандартное распределение, отличающееся от остальных."
   ]
  },
  {
   "cell_type": "code",
   "execution_count": 26,
   "metadata": {},
   "outputs": [
    {
     "name": "stdout",
     "output_type": "stream",
     "text": [
      "count    100000.000000\n",
      "mean         95.000000\n",
      "std          44.749921\n",
      "min           0.000000\n",
      "25%          59.450441\n",
      "50%          94.925613\n",
      "75%         130.595027\n",
      "max         190.029838\n",
      "Name: product, dtype: float64\n"
     ]
    },
    {
     "data": {
      "image/png": "[encoded data removed]",
      "text/plain": [
       "<Figure size 864x576 with 2 Axes>"
      ]
     },
     "metadata": {
      "needs_background": "light"
     },
     "output_type": "display_data"
    }
   ],
   "source": [
    "creating_graph(df_2, 'product')"
   ]
  },
  {
   "cell_type": "markdown",
   "metadata": {},
   "source": [
    "Распределение целевого признака product в датафрейме df_2 также имеет полимодальный характер с восемью вершинами."
   ]
  },
  {
   "cell_type": "markdown",
   "metadata": {},
   "source": [
    "Рассмотрим корреляцию между фичами и целевым признаком"
   ]
  },
  {
   "cell_type": "code",
   "execution_count": 27,
   "metadata": {},
   "outputs": [
    {
     "data": {
      "image/png": "[encoded data removed]",
      "text/plain": [
       "<Figure size 864x432 with 2 Axes>"
      ]
     },
     "metadata": {
      "needs_background": "light"
     },
     "output_type": "display_data"
    }
   ],
   "source": [
    "nam_col_names = df_0.drop('id', axis=1).select_dtypes(include='number').columns.tolist()\n",
    "\n",
    "phik_matrix = df_0.drop('id', axis=1).phik_matrix(interval_cols=nam_col_names)\n",
    "\n",
    "mask = np.triu(np.ones_like(phik_matrix, dtype=bool))\n",
    "\n",
    "plt.figure(figsize=(12, 6))\n",
    "sns.heatmap(phik_matrix, annot=True, cmap='coolwarm', mask=mask)\n",
    "plt.title('Корреляция между признаками')\n",
    "plt.show()"
   ]
  },
  {
   "cell_type": "markdown",
   "metadata": {},
   "source": [
    "В датафрейме df_0 наиболее сильная корреляция с целевым признаком product наблюдается у признака f2 (0.48). Далее следуют признаки f1 (0.25) и f0 (0.22).  Также стоит отметить высокую корреляцию между признаками f1 и f0 (0.76)."
   ]
  },
  {
   "cell_type": "code",
   "execution_count": 28,
   "metadata": {},
   "outputs": [
    {
     "data": {
      "image/png": "[encoded data removed]",
      "text/plain": [
       "<Figure size 864x432 with 2 Axes>"
      ]
     },
     "metadata": {
      "needs_background": "light"
     },
     "output_type": "display_data"
    }
   ],
   "source": [
    "nam_col_names = df_1.drop('id', axis=1).select_dtypes(include='number').columns.tolist()\n",
    "\n",
    "phik_matrix = df_1.drop('id', axis=1).phik_matrix(interval_cols=nam_col_names)\n",
    "\n",
    "mask = np.triu(np.ones_like(phik_matrix, dtype=bool))\n",
    "\n",
    "plt.figure(figsize=(12, 6))\n",
    "sns.heatmap(phik_matrix, annot=True, cmap='coolwarm', mask=mask)\n",
    "plt.title('Корреляция между признаками')\n",
    "plt.show()"
   ]
  },
  {
   "cell_type": "markdown",
   "metadata": {},
   "source": [
    "В датафрейме df_1 обнаружена сильная линейная взаимосвязь между целевым признаком (таргетом) и признаком f2, что объясняется их распределением (коэффициент корреляции 0.98).  Также целевой признак демонстрирует хорошую корреляцию с признаком f0 (0.63)."
   ]
  },
  {
   "cell_type": "markdown",
   "metadata": {},
   "source": [
    " Целесообразно удалить признак f2 из датафрейма df_1."
   ]
  },
  {
   "cell_type": "code",
   "execution_count": 29,
   "metadata": {},
   "outputs": [
    {
     "data": {
      "image/png": "[encoded data removed]",
      "text/plain": [
       "<Figure size 864x432 with 2 Axes>"
      ]
     },
     "metadata": {
      "needs_background": "light"
     },
     "output_type": "display_data"
    }
   ],
   "source": [
    "nam_col_names = df_2.drop('id', axis=1).select_dtypes(include='number').columns.tolist()\n",
    "\n",
    "phik_matrix = df_2.drop('id', axis=1).phik_matrix(interval_cols=nam_col_names)\n",
    "\n",
    "mask = np.triu(np.ones_like(phik_matrix, dtype=bool))\n",
    "\n",
    "plt.figure(figsize=(12, 6))\n",
    "sns.heatmap(phik_matrix, annot=True, cmap='coolwarm', mask=mask)\n",
    "plt.title('Корреляция между признаками')\n",
    "plt.show()"
   ]
  },
  {
   "cell_type": "markdown",
   "metadata": {},
   "source": [
    "В датафрейме df_2 признаки практически не коррелируют между собой.  Наибольшая корреляция с целевым признаком (таргетом) наблюдается у признака f2 и составляет 0.44. Далее следуют признаки f1 (0.22) и f0 (0.2)."
   ]
  },
  {
   "cell_type": "markdown",
   "metadata": {},
   "source": [
    "<div style=\"background-color: PaleTurquoise; padding: 20px\"> <b>Вывод:</b> \n",
    "\n",
    "df_0:\n",
    "\n",
    "* f0: Полимодальное распределение с 4 вершинами, симметричное, медиана и среднее равны 0.5.\n",
    "* f1: Полимодальное распределение с 3 вершинами, симметричное.\n",
    "* f2: Близко к нормальному распределению, симметричное, медиана и среднее около 2.5.\n",
    "* product (целевой признак): Полимодальное распределение с 8 вершинами, нестандартное.\n",
    "* Наиболее сильная корреляция с целевым признаком product: f2 (0.48). Далее следуют: f1 (0.25) и f0 (0.22)\n",
    "* Высокая корреляция между признаками: f1 и f0 (0.76)\n",
    "\n",
    "df_1:\n",
    "\n",
    "* f0: Полимодальное распределение с 2 вершинами, симметричное, широкий диапазон значений.\n",
    "* f1: Близко к нормальному распределению, симметричное, медиана и среднее около -4.8.\n",
    "* f2: Необычное распределение, данные сгруппированы вокруг дискретных значений от 0 до 5.\n",
    "* product (целевой признак):  Наблюдается нестандартное распределение, отличающееся от остальных.\n",
    "* Сильная линейная взаимосвязь с целевым признаком: f2 (0.98).\n",
    "* Хорошая корреляция с целевым признаком: f0 (0.63)\n",
    "\n",
    "df_2:\n",
    "\n",
    "* f0: Близко к нормальному распределению.\n",
    "* f1: Близко к нормальному распределению, симметричное, медиана и среднее около 0.\n",
    "* f2: Близко к нормальному распределению, симметричное, медиана и среднее около 2.5.\n",
    "* product (целевой признак): Полимодальное распределение с 8 вершинами.\n",
    "* Признаки практически не коррелируют между собой.\n",
    "* Наибольшая корреляция с целевым признаком: f2 (0.44). Далее следуют: f1 (0.22) и f0 (0.2)\n",
    "</div>"
   ]
  },
  {
   "cell_type": "markdown",
   "metadata": {},
   "source": [
    "## Обучение и проверка модели"
   ]
  },
  {
   "cell_type": "markdown",
   "metadata": {},
   "source": [
    "Произведем замену индексов в датафреймах df_0, df_1 и df_2 на идентификаторы (id)."
   ]
  },
  {
   "cell_type": "code",
   "execution_count": 30,
   "metadata": {},
   "outputs": [],
   "source": [
    "df_0 = df_0.set_index('id')\n",
    "df_1 = df_1.set_index('id')\n",
    "df_2 = df_2.set_index('id')"
   ]
  },
  {
   "cell_type": "code",
   "execution_count": 31,
   "metadata": {},
   "outputs": [],
   "source": [
    "df_list = [df_0, df_1, df_2]\n",
    "df_name_list = ['df_0', 'df_1', 'df_2']"
   ]
  },
  {
   "cell_type": "markdown",
   "metadata": {},
   "source": [
    "Создадим словарь model_dict для хранения информации о моделях линейной регрессии, включая:\n",
    "   * обученные модели pipeline;\n",
    "   * валидационные выборки X_valid, y_valid;\n",
    "   * предсказания моделей y_pred;\n",
    "   * значения RMSE для каждой модели valid_rmse;\n",
    "   * средний объем запасов в скважине для каждой модели mean_product."
   ]
  },
  {
   "cell_type": "code",
   "execution_count": 32,
   "metadata": {},
   "outputs": [],
   "source": [
    "model_dict = {'pipeline': {},\n",
    "              'X_valid': {},\n",
    "              'y_valid': {},\n",
    "              'y_pred': {},\n",
    "              'valid_rmse': {},\n",
    "              'mean_product': {}}"
   ]
  },
  {
   "cell_type": "markdown",
   "metadata": {},
   "source": [
    "Для каждой скважины построим отдельную модель линейной регрессии, используя цикл для автоматизации процесса."
   ]
  },
  {
   "cell_type": "code",
   "execution_count": 34,
   "metadata": {},
   "outputs": [],
   "source": [
    "for df, df_name in zip(df_list, df_name_list):    \n",
    "    X = df.drop('product', axis=1)\n",
    "    y = df['product']\n",
    "    \n",
    "    X_train, X_valid, y_train, y_valid = train_test_split(X, y, test_size=TEST_SIZE, random_state=RANDOM_STATE)\n",
    "    model_dict['X_valid'][df_name] = X_valid\n",
    "    model_dict['y_valid'][df_name] = y_valid\n",
    "    \n",
    "    pipe_final = make_pipeline(StandardScaler(),LinearRegression())\n",
    "    model_dict['pipeline'][df_name] = pipe_final\n",
    "    \n",
    "    pipe_final.fit(X_train, y_train)\n",
    "    y_pred = pipe_final.predict(X_valid)\n",
    "    \n",
    "    model_dict['y_pred'][df_name] = y_pred \n",
    "    model_dict['valid_rmse'][df_name] = mean_squared_error(y_valid, y_pred, squared=False)\n",
    "    model_dict['mean_product'][df_name] = y_valid.mean()"
   ]
  },
  {
   "cell_type": "markdown",
   "metadata": {},
   "source": [
    "Визуализируем полученные результаты."
   ]
  },
  {
   "cell_type": "code",
   "execution_count": 35,
   "metadata": {},
   "outputs": [
    {
     "name": "stdout",
     "output_type": "stream",
     "text": [
      "df_0\n",
      "Ошибка RMSE для модели датафрейма df_0: 37.75660035026169\n",
      "Средний объём запасов в скважине (тыс. баррелей) для модели датафрейма df_0: 92.32595637084387\n",
      "\n",
      "df_1\n",
      "Ошибка RMSE для модели датафрейма df_1: 0.8902801001028846\n",
      "Средний объём запасов в скважине (тыс. баррелей) для модели датафрейма df_1: 68.72538074722745\n",
      "\n",
      "df_2\n",
      "Ошибка RMSE для модели датафрейма df_2: 40.145872311342174\n",
      "Средний объём запасов в скважине (тыс. баррелей) для модели датафрейма df_2: 95.15099907171961\n",
      "\n"
     ]
    }
   ],
   "source": [
    "for df_name in df_name_list:\n",
    "    print(f\"{df_name}\")\n",
    "    print(f\"Ошибка RMSE для модели датафрейма {df_name}: {model_dict['valid_rmse'][df_name]}\")\n",
    "    print(f\"Средний объём запасов в скважине (тыс. баррелей) для модели датафрейма {df_name}: {model_dict['mean_product'][df_name]}\")\n",
    "    print()"
   ]
  },
  {
   "cell_type": "markdown",
   "metadata": {},
   "source": [
    "<div style=\"background-color: PaleTurquoise; padding: 20px\"> <b>Вывод:</b> \n",
    "модель, обученная на данных df_1, демонстрирует наилучшие результаты: значительно меньшую ошибку RMSE (0.89) по сравнению с другими моделями (37.76 для df_0 и 40.15 для df_2).  При этом средний предсказанный объем запасов для df_1 составляет 68.73 тыс. баррелей, что ниже, чем у  df_0 (92.33 тыс. баррелей) и df_2 (95.15 тыс. баррелей).\n",
    "\n",
    "Модель, построенная на df_0, показывает средние результаты:  RMSE  составляет 37.76,  а средний объем запасов — 92.33 тыс. баррелей. Это  лучше по объему, чем у df_1, но хуже по точности.\n",
    "\n",
    "Модель, основанная на данных df_2, имеет  наихудшую точность с RMSE 40.15, хотя и предсказывает наибольший средний объем запасов — 95.15 тыс. баррелей.</div>"
   ]
  },
  {
   "cell_type": "markdown",
   "metadata": {},
   "source": [
    "## Подготовка к расчёту прибыли"
   ]
  },
  {
   "cell_type": "markdown",
   "metadata": {},
   "source": [
    "Все ключевые значения для расчётов "
   ]
  },
  {
   "cell_type": "code",
   "execution_count": 36,
   "metadata": {},
   "outputs": [],
   "source": [
    "MAX_POINTS = 500 # При разведке региона исследуют 500 точек.\n",
    "MODEL_MAX_POINTS = 200 # C помощью машинного обучения выбирают 200 лучших для разработки.\n",
    "BUDGET = 10 * 10**9 # Бюджет на разработку скважин в регионе — 10 млрд рублей.\n",
    "BAREL_PRICE = 450_000 # Доход с каждой единицы продукта составляет 450 тыс. рублей, поскольку объём указан в тысячах баррелей.\n",
    "LOSS_PROBABILITY = 0.025 # Вероятность убытков меньше 2.5%."
   ]
  },
  {
   "cell_type": "markdown",
   "metadata": {},
   "source": [
    "Достаточный объём сырья для безубыточной разработки новой скважины."
   ]
  },
  {
   "cell_type": "code",
   "execution_count": 39,
   "metadata": {},
   "outputs": [
    {
     "data": {
      "text/plain": [
       "111.11"
      ]
     },
     "execution_count": 39,
     "metadata": {},
     "output_type": "execute_result"
    }
   ],
   "source": [
    "no_losses_point = round((BUDGET / MODEL_MAX_POINTS) / BAREL_PRICE, 2)\n",
    "no_losses_point"
   ]
  },
  {
   "cell_type": "code",
   "execution_count": 40,
   "metadata": {},
   "outputs": [
    {
     "name": "stdout",
     "output_type": "stream",
     "text": [
      "df_0\n",
      "Средний объём запасов в скважине (тыс. баррелей) датафрейма df_0: 92.5\n",
      "\n",
      "df_1\n",
      "Средний объём запасов в скважине (тыс. баррелей) датафрейма df_1: 68.83\n",
      "\n",
      "df_2\n",
      "Средний объём запасов в скважине (тыс. баррелей) датафрейма df_2: 95.0\n",
      "\n"
     ]
    }
   ],
   "source": [
    "for df, df_name in zip(df_list, df_name_list):\n",
    "    print(f\"{df_name}\")\n",
    "    print(f\"Средний объём запасов в скважине (тыс. баррелей) датафрейма {df_name}: {round(df['product'].mean(), 2)}\")\n",
    "    print()"
   ]
  },
  {
   "cell_type": "markdown",
   "metadata": {},
   "source": [
    "Средний объем запасов во всех скважинах не достигает уровня, необходимого для безубыточной разработки."
   ]
  },
  {
   "cell_type": "markdown",
   "metadata": {},
   "source": [
    "С помощью фильтрации и сортировки определим в каждом регионе скважины с достаточным объемом запасов для безубыточной разработки и ранжируем их от наиболее прибыльных к наименее прибыльным."
   ]
  },
  {
   "cell_type": "code",
   "execution_count": 41,
   "metadata": {},
   "outputs": [],
   "source": [
    "best_well_0 = df_0[df_0['product'] >= no_losses_point].sort_values(by='product', ascending=False)\n",
    "best_well_1 = df_1[df_1['product'] >= no_losses_point].sort_values(by='product', ascending=False)\n",
    "best_well_2 = df_2[df_2['product'] >= no_losses_point].sort_values(by='product', ascending=False)"
   ]
  },
  {
   "cell_type": "markdown",
   "metadata": {},
   "source": [
    "Вычислим количество скважин, работающих без убытков, и их долю в общем числе скважин."
   ]
  },
  {
   "cell_type": "code",
   "execution_count": 42,
   "metadata": {},
   "outputs": [],
   "source": [
    "best_well_list = [best_well_0, best_well_1, best_well_2]"
   ]
  },
  {
   "cell_type": "code",
   "execution_count": 43,
   "metadata": {
    "scrolled": true
   },
   "outputs": [
    {
     "name": "stdout",
     "output_type": "stream",
     "text": [
      "df_0\n",
      "Количество  безубыточных скважин в регионе: 36584 \n",
      "Доля безубыточных скважин в регионе: 36.584 %\n",
      "\n",
      "df_1\n",
      "Количество  безубыточных скважин в регионе: 16537 \n",
      "Доля безубыточных скважин в регионе: 16.537 %\n",
      "\n",
      "df_2\n",
      "Количество  безубыточных скважин в регионе: 38178 \n",
      "Доля безубыточных скважин в регионе: 38.178 %\n",
      "\n"
     ]
    }
   ],
   "source": [
    "for df, df_name, best_well in zip(df_list, df_name_list, best_well_list):\n",
    "    print(f\"{df_name}\")\n",
    "    print(f\"Количество  безубыточных скважин в регионе: {best_well.shape[0]} \")\n",
    "    print(f\"Доля безубыточных скважин в регионе: {(best_well.shape[0] / df.shape[0]) * 100} %\")\n",
    "    print()"
   ]
  },
  {
   "cell_type": "markdown",
   "metadata": {},
   "source": [
    "Прежде чем приступить к созданию функции для расчета прибыли на основе выбранных скважин и предсказаний модели, необходимо подготовить данные. Для этого разработаем функцию get_full_valid_df(), которая объединит датафреймы df_X_valid, df_y_valid и df_y_pred в единую таблицу."
   ]
  },
  {
   "cell_type": "code",
   "execution_count": 44,
   "metadata": {},
   "outputs": [],
   "source": [
    "def get_full_valid_df(df): \n",
    "    df_X_valid = model_dict['X_valid'][df].reset_index()\n",
    "    df_y_valid = model_dict['y_valid'][df].reset_index(drop=True)\n",
    "    df_y_pred = pd.Series(model_dict['y_pred'][df], name='y_pred')\n",
    "\n",
    "    df_valid = (df_X_valid\n",
    "                  .merge(df_y_valid, right_index=True, left_index=True)\n",
    "                  .merge(df_y_pred, left_index=True, right_index=True))\n",
    "              \n",
    "    return df_valid"
   ]
  },
  {
   "cell_type": "code",
   "execution_count": 45,
   "metadata": {},
   "outputs": [
    {
     "data": {
      "text/html": [
       "<div>\n",
       "<style scoped>\n",
       "    .dataframe tbody tr th:only-of-type {\n",
       "        vertical-align: middle;\n",
       "    }\n",
       "\n",
       "    .dataframe tbody tr th {\n",
       "        vertical-align: top;\n",
       "    }\n",
       "\n",
       "    .dataframe thead th {\n",
       "        text-align: right;\n",
       "    }\n",
       "</style>\n",
       "<table border=\"1\" class=\"dataframe\">\n",
       "  <thead>\n",
       "    <tr style=\"text-align: right;\">\n",
       "      <th></th>\n",
       "      <th>id</th>\n",
       "      <th>f0</th>\n",
       "      <th>f1</th>\n",
       "      <th>f2</th>\n",
       "      <th>product</th>\n",
       "      <th>y_pred</th>\n",
       "    </tr>\n",
       "  </thead>\n",
       "  <tbody>\n",
       "    <tr>\n",
       "      <th>0</th>\n",
       "      <td>7C6bA</td>\n",
       "      <td>0.599283</td>\n",
       "      <td>-0.557623</td>\n",
       "      <td>2.121187</td>\n",
       "      <td>122.073350</td>\n",
       "      <td>101.901017</td>\n",
       "    </tr>\n",
       "    <tr>\n",
       "      <th>1</th>\n",
       "      <td>dVxsn</td>\n",
       "      <td>0.739017</td>\n",
       "      <td>-0.463156</td>\n",
       "      <td>-1.347584</td>\n",
       "      <td>48.738540</td>\n",
       "      <td>78.217774</td>\n",
       "    </tr>\n",
       "    <tr>\n",
       "      <th>2</th>\n",
       "      <td>1Gm3l</td>\n",
       "      <td>1.422743</td>\n",
       "      <td>-0.534917</td>\n",
       "      <td>3.718798</td>\n",
       "      <td>131.338088</td>\n",
       "      <td>115.266901</td>\n",
       "    </tr>\n",
       "    <tr>\n",
       "      <th>3</th>\n",
       "      <td>Nzg1t</td>\n",
       "      <td>1.580244</td>\n",
       "      <td>-0.238458</td>\n",
       "      <td>2.805149</td>\n",
       "      <td>88.327757</td>\n",
       "      <td>105.618618</td>\n",
       "    </tr>\n",
       "    <tr>\n",
       "      <th>4</th>\n",
       "      <td>Z7b4F</td>\n",
       "      <td>0.918974</td>\n",
       "      <td>0.023961</td>\n",
       "      <td>2.598575</td>\n",
       "      <td>36.959266</td>\n",
       "      <td>97.980185</td>\n",
       "    </tr>\n",
       "  </tbody>\n",
       "</table>\n",
       "</div>"
      ],
      "text/plain": [
       "      id        f0        f1        f2     product      y_pred\n",
       "0  7C6bA  0.599283 -0.557623  2.121187  122.073350  101.901017\n",
       "1  dVxsn  0.739017 -0.463156 -1.347584   48.738540   78.217774\n",
       "2  1Gm3l  1.422743 -0.534917  3.718798  131.338088  115.266901\n",
       "3  Nzg1t  1.580244 -0.238458  2.805149   88.327757  105.618618\n",
       "4  Z7b4F  0.918974  0.023961  2.598575   36.959266   97.980185"
      ]
     },
     "execution_count": 45,
     "metadata": {},
     "output_type": "execute_result"
    }
   ],
   "source": [
    "df_0_valid = get_full_valid_df('df_0')\n",
    "df_0_valid.head(5)"
   ]
  },
  {
   "cell_type": "code",
   "execution_count": 46,
   "metadata": {},
   "outputs": [
    {
     "data": {
      "text/html": [
       "<div>\n",
       "<style scoped>\n",
       "    .dataframe tbody tr th:only-of-type {\n",
       "        vertical-align: middle;\n",
       "    }\n",
       "\n",
       "    .dataframe tbody tr th {\n",
       "        vertical-align: top;\n",
       "    }\n",
       "\n",
       "    .dataframe thead th {\n",
       "        text-align: right;\n",
       "    }\n",
       "</style>\n",
       "<table border=\"1\" class=\"dataframe\">\n",
       "  <thead>\n",
       "    <tr style=\"text-align: right;\">\n",
       "      <th></th>\n",
       "      <th>id</th>\n",
       "      <th>f0</th>\n",
       "      <th>f1</th>\n",
       "      <th>f2</th>\n",
       "      <th>product</th>\n",
       "      <th>y_pred</th>\n",
       "    </tr>\n",
       "  </thead>\n",
       "  <tbody>\n",
       "    <tr>\n",
       "      <th>0</th>\n",
       "      <td>fYVDK</td>\n",
       "      <td>6.078076</td>\n",
       "      <td>0.084568</td>\n",
       "      <td>0.002957</td>\n",
       "      <td>0.000000</td>\n",
       "      <td>0.844738</td>\n",
       "    </tr>\n",
       "    <tr>\n",
       "      <th>1</th>\n",
       "      <td>3SQcq</td>\n",
       "      <td>16.462386</td>\n",
       "      <td>2.712946</td>\n",
       "      <td>1.993030</td>\n",
       "      <td>53.906522</td>\n",
       "      <td>52.921612</td>\n",
       "    </tr>\n",
       "    <tr>\n",
       "      <th>2</th>\n",
       "      <td>hQ1gJ</td>\n",
       "      <td>7.051898</td>\n",
       "      <td>0.766983</td>\n",
       "      <td>4.990194</td>\n",
       "      <td>134.766305</td>\n",
       "      <td>135.110385</td>\n",
       "    </tr>\n",
       "    <tr>\n",
       "      <th>3</th>\n",
       "      <td>Y4vux</td>\n",
       "      <td>-0.240045</td>\n",
       "      <td>-0.380804</td>\n",
       "      <td>3.999693</td>\n",
       "      <td>107.813044</td>\n",
       "      <td>109.494863</td>\n",
       "    </tr>\n",
       "    <tr>\n",
       "      <th>4</th>\n",
       "      <td>H1NUw</td>\n",
       "      <td>13.350111</td>\n",
       "      <td>-8.558281</td>\n",
       "      <td>0.002010</td>\n",
       "      <td>0.000000</td>\n",
       "      <td>-0.047292</td>\n",
       "    </tr>\n",
       "  </tbody>\n",
       "</table>\n",
       "</div>"
      ],
      "text/plain": [
       "      id         f0        f1        f2     product      y_pred\n",
       "0  fYVDK   6.078076  0.084568  0.002957    0.000000    0.844738\n",
       "1  3SQcq  16.462386  2.712946  1.993030   53.906522   52.921612\n",
       "2  hQ1gJ   7.051898  0.766983  4.990194  134.766305  135.110385\n",
       "3  Y4vux  -0.240045 -0.380804  3.999693  107.813044  109.494863\n",
       "4  H1NUw  13.350111 -8.558281  0.002010    0.000000   -0.047292"
      ]
     },
     "execution_count": 46,
     "metadata": {},
     "output_type": "execute_result"
    }
   ],
   "source": [
    "df_1_valid = get_full_valid_df('df_1')\n",
    "df_1_valid.head(5)"
   ]
  },
  {
   "cell_type": "code",
   "execution_count": 47,
   "metadata": {},
   "outputs": [
    {
     "data": {
      "text/html": [
       "<div>\n",
       "<style scoped>\n",
       "    .dataframe tbody tr th:only-of-type {\n",
       "        vertical-align: middle;\n",
       "    }\n",
       "\n",
       "    .dataframe tbody tr th {\n",
       "        vertical-align: top;\n",
       "    }\n",
       "\n",
       "    .dataframe thead th {\n",
       "        text-align: right;\n",
       "    }\n",
       "</style>\n",
       "<table border=\"1\" class=\"dataframe\">\n",
       "  <thead>\n",
       "    <tr style=\"text-align: right;\">\n",
       "      <th></th>\n",
       "      <th>id</th>\n",
       "      <th>f0</th>\n",
       "      <th>f1</th>\n",
       "      <th>f2</th>\n",
       "      <th>product</th>\n",
       "      <th>y_pred</th>\n",
       "    </tr>\n",
       "  </thead>\n",
       "  <tbody>\n",
       "    <tr>\n",
       "      <th>0</th>\n",
       "      <td>sPjbT</td>\n",
       "      <td>2.111118</td>\n",
       "      <td>-1.679773</td>\n",
       "      <td>3.112240</td>\n",
       "      <td>117.441301</td>\n",
       "      <td>98.301916</td>\n",
       "    </tr>\n",
       "    <tr>\n",
       "      <th>1</th>\n",
       "      <td>1u4uo</td>\n",
       "      <td>0.734759</td>\n",
       "      <td>0.747788</td>\n",
       "      <td>3.670879</td>\n",
       "      <td>47.841249</td>\n",
       "      <td>101.592461</td>\n",
       "    </tr>\n",
       "    <tr>\n",
       "      <th>2</th>\n",
       "      <td>kZ6HO</td>\n",
       "      <td>-2.513109</td>\n",
       "      <td>0.844631</td>\n",
       "      <td>-4.922889</td>\n",
       "      <td>45.883483</td>\n",
       "      <td>52.449099</td>\n",
       "    </tr>\n",
       "    <tr>\n",
       "      <th>3</th>\n",
       "      <td>gCZGK</td>\n",
       "      <td>-2.035301</td>\n",
       "      <td>-1.522988</td>\n",
       "      <td>5.072839</td>\n",
       "      <td>139.014608</td>\n",
       "      <td>109.922127</td>\n",
       "    </tr>\n",
       "    <tr>\n",
       "      <th>4</th>\n",
       "      <td>rqJHx</td>\n",
       "      <td>2.744145</td>\n",
       "      <td>1.429952</td>\n",
       "      <td>-1.372661</td>\n",
       "      <td>84.004276</td>\n",
       "      <td>72.411847</td>\n",
       "    </tr>\n",
       "  </tbody>\n",
       "</table>\n",
       "</div>"
      ],
      "text/plain": [
       "      id        f0        f1        f2     product      y_pred\n",
       "0  sPjbT  2.111118 -1.679773  3.112240  117.441301   98.301916\n",
       "1  1u4uo  0.734759  0.747788  3.670879   47.841249  101.592461\n",
       "2  kZ6HO -2.513109  0.844631 -4.922889   45.883483   52.449099\n",
       "3  gCZGK -2.035301 -1.522988  5.072839  139.014608  109.922127\n",
       "4  rqJHx  2.744145  1.429952 -1.372661   84.004276   72.411847"
      ]
     },
     "execution_count": 47,
     "metadata": {},
     "output_type": "execute_result"
    }
   ],
   "source": [
    "df_2_valid = get_full_valid_df('df_2')\n",
    "df_2_valid.head(5)"
   ]
  },
  {
   "cell_type": "markdown",
   "metadata": {},
   "source": [
    "Подготовка данных завершена. Теперь можно приступить к созданию функции get_net_profit() для расчета прибыли."
   ]
  },
  {
   "cell_type": "code",
   "execution_count": 102,
   "metadata": {},
   "outputs": [],
   "source": [
    "def get_net_profit(data):\n",
    "    sort_y_pred = (data.sort_values(by='y_pred', ascending=False))[:MODEL_MAX_POINTS]\n",
    "    sort_product = sort_y_pred['product']\n",
    "    sum_product = sum(sort_product)\n",
    "    return (sum_product * BAREL_PRICE) - BUDGET"
   ]
  },
  {
   "cell_type": "markdown",
   "metadata": {},
   "source": [
    "<div style=\"background-color: PaleTurquoise; padding: 20px\"> <b>Вывод:</b> в ходе исследования были проанализированы данные о запасах нефти в трех регионах (df_0, df_1, df_2) с целью определения перспективных скважин для разработки. \n",
    "\n",
    "Ключевые параметры исследования:\n",
    "\n",
    "* MAX_POINTS: 500 (максимальное количество исследуемых точек в регионе).\n",
    "* MODEL_MAX_POINTS: 200 (количество лучших точек, выбираемых с помощью машинного обучения).\n",
    "* BUDGET: 10 млрд рублей (бюджет на разработку).\n",
    "* BAREL_PRICE: 450 тыс. рублей (доход с тысячи баррелей).\n",
    "* LOSS_PROBABILITY: 2.5% (допустимая вероятность убытков).\n",
    "\n",
    "Результаты анализа:\n",
    "\n",
    "* Средний объем запасов в скважинах во всех регионах не достигает уровня, необходимого для безубыточной разработки (111.11 тыс. баррелей).\n",
    "* Однако, с помощью фильтрации и сортировки были выявлены скважины с достаточным объемом запасов для безубыточной разработки в каждом регионе:\n",
    "    * df_0: 36583 скважины (36.58%).\n",
    "    * df_1: 16537 скважины (16.54%).\n",
    "    * df_2: 38178 скважины (38.18%).\n",
    "\n",
    "Дальнейшие шаги:\n",
    "\n",
    "* Для расчета прибыли от разработки отобранных скважин были созданы функции:\n",
    "    * get_full_valid_df(): объединяет данные о  выбранных скважинах и предсказаниях модели.\n",
    "    * get_net_profit(): рассчитывает прибыль.</div>"
   ]
  },
  {
   "cell_type": "markdown",
   "metadata": {},
   "source": [
    "## Расчёт прибыли и рисков "
   ]
  },
  {
   "cell_type": "code",
   "execution_count": 103,
   "metadata": {},
   "outputs": [],
   "source": [
    "state = np.random.RandomState(42)\n",
    "    \n",
    "def get_bootstrap(df):\n",
    "    values = []\n",
    "    for i in range(1000):\n",
    "        target_subsample = df.sample(n = MAX_POINTS, replace=True, random_state=state)\n",
    "        values.append(get_net_profit(target_subsample))\n",
    "\n",
    "    values = pd.Series(values)\n",
    "    lower = values.quantile(0.025)\n",
    "    upper = values.quantile(0.975)\n",
    "\n",
    "    mean = values.mean()\n",
    "    print(\"Вероятность убытков:\", values.apply(lambda x: x < 0).sum()/len(values)*100,\"%\")\n",
    "    print(\"Средняя выручка:\", round(mean / 10**6, 2), \"млн. руб\")\n",
    "    print(\"2,5%-квантиль:\",  round(lower / 10**6, 2), \"млн. руб\")\n",
    "    print(\"97,5%-квантиль:\", round(upper / 10**6, 2), \"млн. руб\")"
   ]
  },
  {
   "cell_type": "code",
   "execution_count": 104,
   "metadata": {},
   "outputs": [
    {
     "name": "stdout",
     "output_type": "stream",
     "text": [
      "Вероятность убытков: 6.0 %\n",
      "Средняя выручка: 399.58 млн. руб\n",
      "2,5%-квантиль: -110.47 млн. руб\n",
      "97,5%-квантиль: 897.46 млн. руб\n"
     ]
    }
   ],
   "source": [
    "cef(df_0_valid)"
   ]
  },
  {
   "cell_type": "code",
   "execution_count": 105,
   "metadata": {},
   "outputs": [
    {
     "name": "stdout",
     "output_type": "stream",
     "text": [
      "Вероятность убытков: 0.8999999999999999 %\n",
      "Средняя выручка: 452.58 млн. руб\n",
      "2,5%-квантиль: 52.31 млн. руб\n",
      "97,5%-квантиль: 830.15 млн. руб\n"
     ]
    }
   ],
   "source": [
    "cef(df_1_valid)"
   ]
  },
  {
   "cell_type": "code",
   "execution_count": 106,
   "metadata": {},
   "outputs": [
    {
     "name": "stdout",
     "output_type": "stream",
     "text": [
      "Вероятность убытков: 7.5 %\n",
      "Средняя выручка: 378.71 млн. руб\n",
      "2,5%-квантиль: -127.78 млн. руб\n",
      "97,5%-квантиль: 907.92 млн. руб\n"
     ]
    }
   ],
   "source": [
    "cef(df_2_valid)"
   ]
  },
  {
   "cell_type": "markdown",
   "metadata": {},
   "source": [
    "<div style=\"background-color: PaleTurquoise; padding: 20px\"> <b>Вывод:</b> были проанализированы данные о запасах нефти в трех регионах (df_0, df_1, df_2) с целью определения наиболее перспективного для разработки скважин, при условии, что вероятность убытков не превышает 2.5%.  \n",
    "\n",
    "* Были определены скважины с достаточным объемом запасов для безубыточной разработки.\n",
    "* Для оценки рисков и прибыли была применена техника Bootstrap с 1000 выборок для каждого региона.\n",
    "* Были рассчитаны средняя прибыль, 95%-й доверительный интервал и риск убытков (вероятность получения отрицательной прибыли).\n",
    "\n",
    "| Регион | Вероятность убытков | Средняя прибыль (млн. руб.) | 2.5%-квантиль (млн. руб.) | 97.5%-квантиль (млн. руб.) |\n",
    "|-|-|-|-|-|\n",
    "| df_0 | 6.0% | 399.58 | -110.47 | 897.46 |\n",
    "| df_1 | 0.89% | 452.58 | 52.31 | 830.15 |\n",
    "| df_2 | 7.5% | 378.71 | -127.78 | 907.92 |\n",
    "  \n",
    "    \n",
    "Регион df_1 демонстрирует 0.89% вероятность убытков и высокую среднюю прибыль, поэтому его разработка рекомендуется.\n",
    "Регионы df_0 и df_2 не удовлетворяют заданному критерию по риску, так как вероятность убытков в них превышает 2.5%. \n",
    "</div>"
   ]
  },
  {
   "cell_type": "markdown",
   "metadata": {},
   "source": [
    "## Чек-лист готовности проекта"
   ]
  },
  {
   "cell_type": "markdown",
   "metadata": {},
   "source": [
    "Поставьте 'x' в выполненных пунктах. Далее нажмите Shift+Enter."
   ]
  },
  {
   "cell_type": "markdown",
   "metadata": {},
   "source": [
    "- [x]  Jupyter Notebook открыт\n",
    "- [x]  Весь код выполняется без ошибок\n",
    "- [x]  Ячейки с кодом расположены в порядке исполнения\n",
    "- [x]  Выполнен шаг 1: данные подготовлены\n",
    "- [x]  Выполнен шаг 2: модели обучены и проверены\n",
    "    - [x]  Данные корректно разбиты на обучающую и валидационную выборки\n",
    "    - [x]  Модели обучены, предсказания сделаны\n",
    "    - [x]  Предсказания и правильные ответы на валидационной выборке сохранены\n",
    "    - [x]  На экране напечатаны результаты\n",
    "    - [x]  Сделаны выводы\n",
    "- [X]  Выполнен шаг 3: проведена подготовка к расчёту прибыли\n",
    "    - [x]  Для всех ключевых значений созданы константы Python\n",
    "    - [x]  Посчитано минимальное среднее количество продукта в месторождениях региона, достаточное для разработки\n",
    "    - [x]  По предыдущему пункту сделаны выводы\n",
    "    - [x]  Написана функция расчёта прибыли\n",
    "- [x]  Выполнен шаг 4: посчитаны риски и прибыль\n",
    "    - [x]  Проведена процедура *Bootstrap*\n",
    "    - [x]  Все параметры бутстрепа соответствуют условию\n",
    "    - [x]  Найдены все нужные величины\n",
    "    - [x]  Предложен регион для разработки месторождения\n",
    "    - [x]  Выбор региона обоснован"
   ]
  },
  {
   "cell_type": "markdown",
   "metadata": {},
   "source": [
    "## Общий вывод"
   ]
  },
  {
   "cell_type": "markdown",
   "metadata": {},
   "source": [
    "<div style=\"background-color: PaleTurquoise; padding: 20px\"> <b>Вывод:</b> в ходе исследования были проанализированы данные о запасах нефти в трех регионах (df_0, df_1, df_2) с целью определения наиболее перспективных для разработки.\n",
    "\n",
    "Этап 1 и 2. Загрузка/подготовка данных, исследовательский и корреляционый анализ данных:\n",
    "\n",
    "* Данные были загружены и проверены на наличие пропусков, дубликатов и соответствие типов данных. \n",
    "* Распределения признаков:\n",
    "    * В каждом регионе признаки f0, f1, f2 и целевой признак product имели различные типы распределений (полимодальные, нормальные, нестандартные).\n",
    "* Корреляционный анализ:\n",
    "    * В регионе df_0 наблюдалась высокая корреляция между признаками f1 и f0.\n",
    "    * В регионе df_1 признак f2 был имел сильную корреляцию с целевым признаком.\n",
    "    * В остальных регионах корреляция между признаками была слабой.\n",
    "\n",
    "Этап 3. Построение и оценка моделей:\n",
    "\n",
    "* Для каждого региона были построены модели машинного обучения для предсказания объема запасов нефти.\n",
    "* Оценка моделей по ошибке RMSE:\n",
    "    * Модель, построенная на данных df_1, показала наименьшую ошибку RMSE (0.89).\n",
    "    * Модель, построенная на данных df_2, показала наибольшую ошибку RMSE (40.15).\n",
    "* Оценка моделей по среднему объему запасов:\n",
    "    * Модель, построенная на данных df_2, предсказала наибольший средний объем запасов (95.15 тыс. баррелей).\n",
    "    * Модель, построенная на данных df_1, предсказала наименьший средний объем запасов (68.73 тыс. баррелей).\n",
    "* Модель, построенная на данных df_1, демонстрирует наилучшую точность (наименьшую ошибку RMSE), но низкий средний объем запасов.\n",
    "* Модель, построенная на df_0, показывает средние результаты:  RMSE  составляет 37.76,  а средний объем запасов — 92.33 тыс. баррелей. Это  лучше по объему, чем у df_1, но хуже по точности.\n",
    "* Модель, основанная на данных df_2, имеет  наихудшую точность с RMSE 40.15, хотя и предсказывает наибольший средний объем запасов — 95.15 тыс. баррелей.\n",
    "\n",
    "Этап 4 и 5. Подготовка и расчет прибыли:\n",
    "    \n",
    "Ключевые параметры:\n",
    "\n",
    "* MAX_POINTS: 500 (максимальное количество исследуемых точек в регионе).\n",
    "* MODEL_MAX_POINTS: 200 (количество лучших точек, выбираемых с помощью машинного обучения).\n",
    "* BUDGET: 10 млрд рублей (бюджет на разработку).\n",
    "* BAREL_PRICE: 450 тыс. рублей (доход с тысячи баррелей).\n",
    "* LOSS_PROBABILITY: 2.5% (допустимая вероятность убытков).\n",
    "\n",
    "Методология:\n",
    "\n",
    "1. Отбор скважин: \n",
    "   * Выявлены скважины с достаточным объемом запасов для безубыточной разработки.\n",
    "2. Оценка рисков и прибыли:\n",
    "   * Применена техника Bootstrap с 1000 выборок для каждого региона.\n",
    "   * Рассчитаны:\n",
    "     * средняя прибыль,\n",
    "     * 95%-й доверительный интервал,\n",
    "     * риск убытков (вероятность отрицательной прибыли).\n",
    "\n",
    "Результаты:\n",
    "\n",
    "| Регион | Вероятность убытков | Средняя прибыль (млн. руб.) | 2.5%-квантиль (млн. руб.) | 97.5%-квантиль (млн. руб.) |\n",
    "|-|-|-|-|-|\n",
    "| df_0 | 6.0% | 399.58 | -110.47 | 897.46 |\n",
    "| df_1 | 0.89% | 452.58 | 52.31 | 830.15 |\n",
    "| df_2 | 7.5% | 378.71 | -127.78 | 907.92 |\n",
    "\n",
    "Регион df_1 демонстрирует 0.89% вероятность убытков и высокую среднюю прибыль, поэтому его разработка рекомендуется.\n",
    "Регионы df_0 и df_2 не удовлетворяют заданному критерию по риску, так как вероятность убытков в них превышает 2.5%. </div>"
   ]
  },
  {
   "cell_type": "code",
   "execution_count": null,
   "metadata": {},
   "outputs": [],
   "source": []
  }
 ],
 "metadata": {
  "ExecuteTimeLog": [
   {
    "duration": 20069,
    "start_time": "2024-10-19T10:39:34.064Z"
   },
   {
    "duration": 10275,
    "start_time": "2024-10-19T10:47:44.799Z"
   },
   {
    "duration": 3,
    "start_time": "2024-10-19T10:48:30.422Z"
   },
   {
    "duration": 494,
    "start_time": "2024-10-19T10:51:17.624Z"
   },
   {
    "duration": 14,
    "start_time": "2024-10-19T10:51:25.878Z"
   },
   {
    "duration": 768,
    "start_time": "2024-10-19T10:53:02.652Z"
   },
   {
    "duration": 9,
    "start_time": "2024-10-19T10:53:04.627Z"
   },
   {
    "duration": 37,
    "start_time": "2024-10-19T10:55:34.424Z"
   },
   {
    "duration": 84,
    "start_time": "2024-10-19T10:55:52.771Z"
   },
   {
    "duration": 15,
    "start_time": "2024-10-19T11:34:58.600Z"
   },
   {
    "duration": 18,
    "start_time": "2024-10-19T11:35:04.560Z"
   },
   {
    "duration": 42,
    "start_time": "2024-10-19T11:35:08.468Z"
   },
   {
    "duration": 34,
    "start_time": "2024-10-19T11:37:29.661Z"
   },
   {
    "duration": 8,
    "start_time": "2024-10-19T11:41:36.326Z"
   },
   {
    "duration": 22,
    "start_time": "2024-10-19T11:41:39.059Z"
   },
   {
    "duration": 36,
    "start_time": "2024-10-19T11:41:43.136Z"
   },
   {
    "duration": 166,
    "start_time": "2024-10-19T11:52:22.721Z"
   },
   {
    "duration": 8,
    "start_time": "2024-10-19T11:53:13.718Z"
   },
   {
    "duration": 161,
    "start_time": "2024-10-19T11:54:30.983Z"
   },
   {
    "duration": 139,
    "start_time": "2024-10-19T11:56:45.791Z"
   },
   {
    "duration": 11,
    "start_time": "2024-10-19T12:03:04.123Z"
   },
   {
    "duration": 15256,
    "start_time": "2024-10-19T12:03:30.074Z"
   },
   {
    "duration": 9,
    "start_time": "2024-10-19T12:04:54.067Z"
   },
   {
    "duration": 2578,
    "start_time": "2024-10-19T12:04:54.627Z"
   },
   {
    "duration": 9,
    "start_time": "2024-10-19T12:05:06.427Z"
   },
   {
    "duration": 1160,
    "start_time": "2024-10-19T12:05:07.327Z"
   },
   {
    "duration": 19,
    "start_time": "2024-10-19T12:05:13.844Z"
   },
   {
    "duration": 802,
    "start_time": "2024-10-19T12:05:14.283Z"
   },
   {
    "duration": 651,
    "start_time": "2024-10-19T12:06:11.090Z"
   },
   {
    "duration": 838,
    "start_time": "2024-10-19T12:06:14.920Z"
   },
   {
    "duration": 787,
    "start_time": "2024-10-19T12:06:30.242Z"
   },
   {
    "duration": 76,
    "start_time": "2024-10-19T12:07:42.848Z"
   },
   {
    "duration": 767,
    "start_time": "2024-10-19T12:26:10.929Z"
   },
   {
    "duration": 648,
    "start_time": "2024-10-19T12:26:13.291Z"
   },
   {
    "duration": 772,
    "start_time": "2024-10-19T12:26:15.557Z"
   },
   {
    "duration": 640,
    "start_time": "2024-10-19T12:30:25.819Z"
   },
   {
    "duration": 779,
    "start_time": "2024-10-19T12:30:39.507Z"
   },
   {
    "duration": 619,
    "start_time": "2024-10-19T12:30:43.723Z"
   },
   {
    "duration": 9,
    "start_time": "2024-10-19T12:31:18.642Z"
   },
   {
    "duration": 1509,
    "start_time": "2024-10-19T12:31:22.811Z"
   },
   {
    "duration": 9,
    "start_time": "2024-10-19T12:31:48.264Z"
   },
   {
    "duration": 754,
    "start_time": "2024-10-19T12:31:53.034Z"
   },
   {
    "duration": 9,
    "start_time": "2024-10-19T12:32:02.852Z"
   },
   {
    "duration": 596,
    "start_time": "2024-10-19T12:32:07.117Z"
   },
   {
    "duration": 158,
    "start_time": "2024-10-19T12:32:59.817Z"
   },
   {
    "duration": 135,
    "start_time": "2024-10-19T12:33:11.815Z"
   },
   {
    "duration": 252,
    "start_time": "2024-10-19T12:33:15.545Z"
   },
   {
    "duration": 324,
    "start_time": "2024-10-19T12:33:20.994Z"
   },
   {
    "duration": 588,
    "start_time": "2024-10-19T12:34:33.519Z"
   },
   {
    "duration": 634,
    "start_time": "2024-10-19T12:47:31.245Z"
   },
   {
    "duration": 756,
    "start_time": "2024-10-19T12:47:34.249Z"
   },
   {
    "duration": 632,
    "start_time": "2024-10-19T12:47:37.574Z"
   },
   {
    "duration": 737,
    "start_time": "2024-10-19T12:54:29.948Z"
   },
   {
    "duration": 710,
    "start_time": "2024-10-19T12:55:04.523Z"
   },
   {
    "duration": 1711,
    "start_time": "2024-10-19T12:55:50.242Z"
   },
   {
    "duration": 563,
    "start_time": "2024-10-19T12:56:58.800Z"
   },
   {
    "duration": 560,
    "start_time": "2024-10-19T12:57:08.062Z"
   },
   {
    "duration": 562,
    "start_time": "2024-10-19T12:57:21.206Z"
   },
   {
    "duration": 26,
    "start_time": "2024-10-19T13:30:19.915Z"
   },
   {
    "duration": 12,
    "start_time": "2024-10-19T13:30:26.171Z"
   },
   {
    "duration": 11,
    "start_time": "2024-10-19T13:32:07.459Z"
   },
   {
    "duration": 16,
    "start_time": "2024-10-19T13:37:25.424Z"
   },
   {
    "duration": 129,
    "start_time": "2024-10-19T13:37:28.606Z"
   },
   {
    "duration": 4,
    "start_time": "2024-10-19T13:37:29.939Z"
   },
   {
    "duration": 60,
    "start_time": "2024-10-19T13:37:54.552Z"
   },
   {
    "duration": 4,
    "start_time": "2024-10-19T13:38:00.679Z"
   },
   {
    "duration": 6,
    "start_time": "2024-10-19T13:39:12.863Z"
   },
   {
    "duration": 3,
    "start_time": "2024-10-19T13:47:13.712Z"
   },
   {
    "duration": 4,
    "start_time": "2024-10-19T13:47:14.301Z"
   },
   {
    "duration": 3,
    "start_time": "2024-10-19T13:47:16.087Z"
   },
   {
    "duration": 13,
    "start_time": "2024-10-19T13:47:17.675Z"
   },
   {
    "duration": 11066,
    "start_time": "2024-10-19T13:47:58.671Z"
   },
   {
    "duration": 18,
    "start_time": "2024-10-19T13:48:09.740Z"
   },
   {
    "duration": 10,
    "start_time": "2024-10-19T13:48:15.010Z"
   },
   {
    "duration": 10,
    "start_time": "2024-10-19T13:48:42.191Z"
   },
   {
    "duration": 13,
    "start_time": "2024-10-19T13:48:55.869Z"
   },
   {
    "duration": 6192,
    "start_time": "2024-10-19T13:51:35.576Z"
   },
   {
    "duration": 5,
    "start_time": "2024-10-19T13:54:50.764Z"
   },
   {
    "duration": 4,
    "start_time": "2024-10-19T13:58:21.082Z"
   },
   {
    "duration": 6034,
    "start_time": "2024-10-19T13:58:31.330Z"
   },
   {
    "duration": 4,
    "start_time": "2024-10-19T13:58:40.324Z"
   },
   {
    "duration": 4,
    "start_time": "2024-10-19T13:59:08.586Z"
   },
   {
    "duration": 6015,
    "start_time": "2024-10-19T13:59:09.144Z"
   },
   {
    "duration": 4,
    "start_time": "2024-10-19T13:59:15.160Z"
   },
   {
    "duration": 3,
    "start_time": "2024-10-19T13:59:43.901Z"
   },
   {
    "duration": 6023,
    "start_time": "2024-10-19T13:59:44.344Z"
   },
   {
    "duration": 3,
    "start_time": "2024-10-19T13:59:50.369Z"
   },
   {
    "duration": 43,
    "start_time": "2024-10-19T14:01:20.300Z"
   },
   {
    "duration": 24,
    "start_time": "2024-10-19T14:01:25.725Z"
   },
   {
    "duration": 4,
    "start_time": "2024-10-19T14:01:53.286Z"
   },
   {
    "duration": 12,
    "start_time": "2024-10-19T14:02:40.009Z"
   },
   {
    "duration": 4,
    "start_time": "2024-10-19T14:28:06.156Z"
   },
   {
    "duration": 5993,
    "start_time": "2024-10-19T14:28:07.271Z"
   },
   {
    "duration": 3,
    "start_time": "2024-10-19T14:28:14.634Z"
   },
   {
    "duration": 5955,
    "start_time": "2024-10-19T14:28:14.910Z"
   },
   {
    "duration": 4,
    "start_time": "2024-10-19T14:28:20.867Z"
   },
   {
    "duration": 3,
    "start_time": "2024-10-19T14:40:33.014Z"
   },
   {
    "duration": 2,
    "start_time": "2024-10-19T14:40:51.963Z"
   },
   {
    "duration": 3,
    "start_time": "2024-10-19T14:40:54.317Z"
   },
   {
    "duration": 2,
    "start_time": "2024-10-19T14:41:10.422Z"
   },
   {
    "duration": 4,
    "start_time": "2024-10-19T14:41:10.825Z"
   },
   {
    "duration": 3,
    "start_time": "2024-10-19T14:41:58.839Z"
   },
   {
    "duration": 3,
    "start_time": "2024-10-19T14:42:13.500Z"
   },
   {
    "duration": 4,
    "start_time": "2024-10-19T14:42:14.098Z"
   },
   {
    "duration": 4,
    "start_time": "2024-10-19T14:42:31.504Z"
   },
   {
    "duration": 4,
    "start_time": "2024-10-19T14:47:44.132Z"
   },
   {
    "duration": 69,
    "start_time": "2024-10-19T14:48:28.122Z"
   },
   {
    "duration": 11,
    "start_time": "2024-10-19T14:48:39.273Z"
   },
   {
    "duration": 12,
    "start_time": "2024-10-19T14:48:55.591Z"
   },
   {
    "duration": 3,
    "start_time": "2024-10-19T14:49:02.995Z"
   },
   {
    "duration": 11,
    "start_time": "2024-10-19T14:50:04.623Z"
   },
   {
    "duration": 3,
    "start_time": "2024-10-19T14:50:11.144Z"
   },
   {
    "duration": 8,
    "start_time": "2024-10-19T14:50:11.716Z"
   },
   {
    "duration": 4,
    "start_time": "2024-10-19T14:50:15.686Z"
   },
   {
    "duration": 6,
    "start_time": "2024-10-19T14:50:42.749Z"
   },
   {
    "duration": 5,
    "start_time": "2024-10-19T14:50:43.366Z"
   },
   {
    "duration": 12,
    "start_time": "2024-10-19T14:53:41.413Z"
   },
   {
    "duration": 3,
    "start_time": "2024-10-19T14:55:06.044Z"
   },
   {
    "duration": 8,
    "start_time": "2024-10-19T14:55:06.456Z"
   },
   {
    "duration": 4,
    "start_time": "2024-10-19T14:55:09.537Z"
   },
   {
    "duration": 17,
    "start_time": "2024-10-19T15:04:39.286Z"
   },
   {
    "duration": 2,
    "start_time": "2024-10-19T15:04:43.010Z"
   },
   {
    "duration": 103,
    "start_time": "2024-10-19T15:04:44.727Z"
   },
   {
    "duration": 16,
    "start_time": "2024-10-19T15:04:51.508Z"
   },
   {
    "duration": 10,
    "start_time": "2024-10-19T15:06:15.063Z"
   },
   {
    "duration": 9,
    "start_time": "2024-10-19T15:06:20.407Z"
   },
   {
    "duration": 11,
    "start_time": "2024-10-19T15:06:23.562Z"
   },
   {
    "duration": 3,
    "start_time": "2024-10-19T15:11:07.296Z"
   },
   {
    "duration": 12,
    "start_time": "2024-10-19T15:11:10.141Z"
   },
   {
    "duration": 3,
    "start_time": "2024-10-19T15:16:47.062Z"
   },
   {
    "duration": 79,
    "start_time": "2024-10-19T15:16:47.623Z"
   },
   {
    "duration": 17,
    "start_time": "2024-10-19T15:16:50.029Z"
   },
   {
    "duration": 13,
    "start_time": "2024-10-19T15:17:08.727Z"
   },
   {
    "duration": 3,
    "start_time": "2024-10-19T15:19:52.377Z"
   },
   {
    "duration": 429,
    "start_time": "2024-10-19T15:25:40.455Z"
   },
   {
    "duration": 10,
    "start_time": "2024-10-19T15:25:42.531Z"
   },
   {
    "duration": 4,
    "start_time": "2024-10-19T15:25:53.409Z"
   },
   {
    "duration": 4,
    "start_time": "2024-10-19T15:25:57.732Z"
   },
   {
    "duration": 5,
    "start_time": "2024-10-19T15:26:01.164Z"
   },
   {
    "duration": 362,
    "start_time": "2024-10-19T15:29:34.919Z"
   },
   {
    "duration": 442,
    "start_time": "2024-10-19T15:29:54.573Z"
   },
   {
    "duration": 423,
    "start_time": "2024-10-19T15:30:17.455Z"
   },
   {
    "duration": 6,
    "start_time": "2024-10-19T15:31:59.095Z"
   },
   {
    "duration": 403,
    "start_time": "2024-10-19T15:32:12.918Z"
   },
   {
    "duration": 455,
    "start_time": "2024-10-19T15:32:21.909Z"
   },
   {
    "duration": 457,
    "start_time": "2024-10-19T15:32:29.117Z"
   },
   {
    "duration": 5,
    "start_time": "2024-10-19T15:33:05.870Z"
   },
   {
    "duration": 653,
    "start_time": "2024-10-19T15:33:06.600Z"
   },
   {
    "duration": 441,
    "start_time": "2024-10-19T15:33:07.254Z"
   },
   {
    "duration": 420,
    "start_time": "2024-10-19T15:33:09.313Z"
   },
   {
    "duration": 6,
    "start_time": "2024-10-19T15:36:25.925Z"
   },
   {
    "duration": 3,
    "start_time": "2024-10-19T15:36:41.248Z"
   },
   {
    "duration": 3,
    "start_time": "2024-10-19T15:36:41.714Z"
   },
   {
    "duration": 3,
    "start_time": "2024-10-19T15:36:42.163Z"
   },
   {
    "duration": 1119,
    "start_time": "2024-10-19T15:36:42.569Z"
   },
   {
    "duration": 1564,
    "start_time": "2024-10-19T15:38:57.052Z"
   },
   {
    "duration": 67,
    "start_time": "2024-10-19T15:39:27.314Z"
   },
   {
    "duration": 36,
    "start_time": "2024-10-19T15:40:21.198Z"
   },
   {
    "duration": 11410,
    "start_time": "2024-10-19T15:40:27.347Z"
   },
   {
    "duration": 1306,
    "start_time": "2024-10-19T15:40:38.761Z"
   },
   {
    "duration": 12306,
    "start_time": "2024-10-19T15:41:14.367Z"
   },
   {
    "duration": 2,
    "start_time": "2024-10-19T15:41:26.675Z"
   },
   {
    "duration": 543,
    "start_time": "2024-10-19T15:41:26.679Z"
   },
   {
    "duration": 19,
    "start_time": "2024-10-19T15:41:27.224Z"
   },
   {
    "duration": 15,
    "start_time": "2024-10-19T15:41:27.244Z"
   },
   {
    "duration": 36,
    "start_time": "2024-10-19T15:41:27.261Z"
   },
   {
    "duration": 8,
    "start_time": "2024-10-19T15:41:27.299Z"
   },
   {
    "duration": 45,
    "start_time": "2024-10-19T15:41:27.309Z"
   },
   {
    "duration": 36,
    "start_time": "2024-10-19T15:41:27.356Z"
   },
   {
    "duration": 56,
    "start_time": "2024-10-19T15:41:27.395Z"
   },
   {
    "duration": 17,
    "start_time": "2024-10-19T15:41:27.453Z"
   },
   {
    "duration": 34,
    "start_time": "2024-10-19T15:41:27.472Z"
   },
   {
    "duration": 168,
    "start_time": "2024-10-19T15:41:27.508Z"
   },
   {
    "duration": 13,
    "start_time": "2024-10-19T15:41:27.678Z"
   },
   {
    "duration": 825,
    "start_time": "2024-10-19T15:41:27.693Z"
   },
   {
    "duration": 677,
    "start_time": "2024-10-19T15:41:28.520Z"
   },
   {
    "duration": 831,
    "start_time": "2024-10-19T15:41:29.199Z"
   },
   {
    "duration": 620,
    "start_time": "2024-10-19T15:41:30.032Z"
   },
   {
    "duration": 673,
    "start_time": "2024-10-19T15:41:30.653Z"
   },
   {
    "duration": 753,
    "start_time": "2024-10-19T15:41:31.327Z"
   },
   {
    "duration": 623,
    "start_time": "2024-10-19T15:41:32.082Z"
   },
   {
    "duration": 753,
    "start_time": "2024-10-19T15:41:32.707Z"
   },
   {
    "duration": 629,
    "start_time": "2024-10-19T15:41:33.462Z"
   },
   {
    "duration": 797,
    "start_time": "2024-10-19T15:41:34.093Z"
   },
   {
    "duration": 625,
    "start_time": "2024-10-19T15:41:34.892Z"
   },
   {
    "duration": 785,
    "start_time": "2024-10-19T15:41:35.519Z"
   },
   {
    "duration": 651,
    "start_time": "2024-10-19T15:41:36.306Z"
   },
   {
    "duration": 599,
    "start_time": "2024-10-19T15:41:36.960Z"
   },
   {
    "duration": 5,
    "start_time": "2024-10-19T15:41:37.561Z"
   },
   {
    "duration": 589,
    "start_time": "2024-10-19T15:41:37.568Z"
   },
   {
    "duration": 21,
    "start_time": "2024-10-19T15:41:38.159Z"
   },
   {
    "duration": 3,
    "start_time": "2024-10-19T15:41:38.182Z"
   },
   {
    "duration": 4,
    "start_time": "2024-10-19T15:41:38.186Z"
   },
   {
    "duration": 7,
    "start_time": "2024-10-19T15:41:38.191Z"
   },
   {
    "duration": 180,
    "start_time": "2024-10-19T15:41:38.199Z"
   },
   {
    "duration": 0,
    "start_time": "2024-10-19T15:41:38.381Z"
   },
   {
    "duration": 0,
    "start_time": "2024-10-19T15:41:38.382Z"
   },
   {
    "duration": 0,
    "start_time": "2024-10-19T15:41:38.383Z"
   },
   {
    "duration": 0,
    "start_time": "2024-10-19T15:41:38.385Z"
   },
   {
    "duration": 0,
    "start_time": "2024-10-19T15:41:38.386Z"
   },
   {
    "duration": 79,
    "start_time": "2024-10-19T15:41:51.170Z"
   },
   {
    "duration": 560,
    "start_time": "2024-10-19T15:42:44.084Z"
   },
   {
    "duration": 4,
    "start_time": "2024-10-19T15:42:47.846Z"
   },
   {
    "duration": 4,
    "start_time": "2024-10-19T15:42:51.103Z"
   },
   {
    "duration": 4,
    "start_time": "2024-10-19T15:42:54.670Z"
   },
   {
    "duration": 6,
    "start_time": "2024-10-19T15:43:05.858Z"
   },
   {
    "duration": 499,
    "start_time": "2024-10-19T15:43:07.964Z"
   },
   {
    "duration": 415,
    "start_time": "2024-10-19T15:43:10.156Z"
   },
   {
    "duration": 411,
    "start_time": "2024-10-19T15:43:15.993Z"
   },
   {
    "duration": 4,
    "start_time": "2024-10-19T15:57:38.687Z"
   },
   {
    "duration": 142,
    "start_time": "2024-10-19T16:00:05.909Z"
   },
   {
    "duration": 5,
    "start_time": "2024-10-19T16:00:09.477Z"
   },
   {
    "duration": 509,
    "start_time": "2024-10-19T16:00:09.935Z"
   },
   {
    "duration": 3,
    "start_time": "2024-10-19T16:00:17.107Z"
   },
   {
    "duration": 62,
    "start_time": "2024-10-19T16:06:01.911Z"
   },
   {
    "duration": 5,
    "start_time": "2024-10-19T16:06:35.923Z"
   },
   {
    "duration": 6,
    "start_time": "2024-10-19T16:07:46.091Z"
   },
   {
    "duration": 4,
    "start_time": "2024-10-19T16:08:17.363Z"
   },
   {
    "duration": 5,
    "start_time": "2024-10-19T16:09:33.924Z"
   },
   {
    "duration": 4,
    "start_time": "2024-10-19T16:09:46.572Z"
   },
   {
    "duration": 77,
    "start_time": "2024-10-19T16:28:42.035Z"
   },
   {
    "duration": 67,
    "start_time": "2024-10-19T16:46:25.872Z"
   },
   {
    "duration": 3,
    "start_time": "2024-10-19T16:47:08.469Z"
   },
   {
    "duration": 5,
    "start_time": "2024-10-19T16:47:12.985Z"
   },
   {
    "duration": 3,
    "start_time": "2024-10-19T16:52:02.407Z"
   },
   {
    "duration": 4,
    "start_time": "2024-10-19T16:56:34.047Z"
   },
   {
    "duration": 5,
    "start_time": "2024-10-19T16:57:16.806Z"
   },
   {
    "duration": 3,
    "start_time": "2024-10-19T17:02:06.138Z"
   },
   {
    "duration": 4,
    "start_time": "2024-10-19T17:02:21.774Z"
   },
   {
    "duration": 87,
    "start_time": "2024-10-19T17:03:02.356Z"
   },
   {
    "duration": 4,
    "start_time": "2024-10-19T17:07:02.890Z"
   },
   {
    "duration": 16,
    "start_time": "2024-10-19T17:08:14.637Z"
   },
   {
    "duration": 15,
    "start_time": "2024-10-19T17:08:40.926Z"
   },
   {
    "duration": 6,
    "start_time": "2024-10-19T17:09:04.063Z"
   },
   {
    "duration": 7,
    "start_time": "2024-10-19T17:09:34.678Z"
   },
   {
    "duration": 6,
    "start_time": "2024-10-19T17:09:50.900Z"
   },
   {
    "duration": 7,
    "start_time": "2024-10-19T17:10:09.327Z"
   },
   {
    "duration": 3,
    "start_time": "2024-10-19T17:17:27.650Z"
   },
   {
    "duration": 17,
    "start_time": "2024-10-19T17:17:36.587Z"
   },
   {
    "duration": 3,
    "start_time": "2024-10-19T17:17:55.435Z"
   },
   {
    "duration": 163,
    "start_time": "2024-10-19T17:17:55.851Z"
   },
   {
    "duration": 3,
    "start_time": "2024-10-19T17:18:17.225Z"
   },
   {
    "duration": 18,
    "start_time": "2024-10-19T17:18:17.905Z"
   },
   {
    "duration": 4,
    "start_time": "2024-10-19T17:18:39.535Z"
   },
   {
    "duration": 22,
    "start_time": "2024-10-19T17:18:39.764Z"
   },
   {
    "duration": 4,
    "start_time": "2024-10-19T17:21:25.749Z"
   },
   {
    "duration": 29,
    "start_time": "2024-10-19T17:21:26.137Z"
   },
   {
    "duration": 3,
    "start_time": "2024-10-19T17:21:34.714Z"
   },
   {
    "duration": 24,
    "start_time": "2024-10-19T17:21:37.344Z"
   },
   {
    "duration": 3,
    "start_time": "2024-10-19T17:21:55.395Z"
   },
   {
    "duration": 23,
    "start_time": "2024-10-19T17:21:56.916Z"
   },
   {
    "duration": 3,
    "start_time": "2024-10-19T17:22:15.699Z"
   },
   {
    "duration": 33,
    "start_time": "2024-10-19T17:22:19.030Z"
   },
   {
    "duration": 4,
    "start_time": "2024-10-19T17:22:24.126Z"
   },
   {
    "duration": 23,
    "start_time": "2024-10-19T17:22:26.046Z"
   },
   {
    "duration": 21,
    "start_time": "2024-10-19T17:23:24.597Z"
   },
   {
    "duration": 36,
    "start_time": "2024-10-19T17:23:49.599Z"
   },
   {
    "duration": 99,
    "start_time": "2024-10-19T17:25:06.757Z"
   },
   {
    "duration": 3,
    "start_time": "2024-10-19T17:26:43.376Z"
   },
   {
    "duration": 4,
    "start_time": "2024-10-19T17:26:44.185Z"
   },
   {
    "duration": 4,
    "start_time": "2024-10-19T17:27:58.802Z"
   },
   {
    "duration": 4,
    "start_time": "2024-10-19T17:28:08.502Z"
   },
   {
    "duration": 4,
    "start_time": "2024-10-19T17:29:16.686Z"
   },
   {
    "duration": 4,
    "start_time": "2024-10-19T17:29:21.527Z"
   },
   {
    "duration": 45,
    "start_time": "2024-10-19T17:42:21.947Z"
   },
   {
    "duration": 12917,
    "start_time": "2024-10-19T17:42:30.130Z"
   },
   {
    "duration": 3,
    "start_time": "2024-10-19T17:42:43.049Z"
   },
   {
    "duration": 1011,
    "start_time": "2024-10-19T17:42:43.053Z"
   },
   {
    "duration": 16,
    "start_time": "2024-10-19T17:42:44.067Z"
   },
   {
    "duration": 34,
    "start_time": "2024-10-19T17:42:44.084Z"
   },
   {
    "duration": 36,
    "start_time": "2024-10-19T17:42:44.120Z"
   },
   {
    "duration": 8,
    "start_time": "2024-10-19T17:42:44.158Z"
   },
   {
    "duration": 14,
    "start_time": "2024-10-19T17:42:44.168Z"
   },
   {
    "duration": 42,
    "start_time": "2024-10-19T17:42:44.184Z"
   },
   {
    "duration": 18,
    "start_time": "2024-10-19T17:42:44.229Z"
   },
   {
    "duration": 81,
    "start_time": "2024-10-19T17:42:44.249Z"
   },
   {
    "duration": 34,
    "start_time": "2024-10-19T17:42:44.332Z"
   },
   {
    "duration": 129,
    "start_time": "2024-10-19T17:42:44.368Z"
   },
   {
    "duration": 8,
    "start_time": "2024-10-19T17:42:44.499Z"
   },
   {
    "duration": 853,
    "start_time": "2024-10-19T17:42:44.508Z"
   },
   {
    "duration": 678,
    "start_time": "2024-10-19T17:42:45.363Z"
   },
   {
    "duration": 761,
    "start_time": "2024-10-19T17:42:46.043Z"
   },
   {
    "duration": 661,
    "start_time": "2024-10-19T17:42:46.806Z"
   },
   {
    "duration": 595,
    "start_time": "2024-10-19T17:42:47.469Z"
   },
   {
    "duration": 767,
    "start_time": "2024-10-19T17:42:48.066Z"
   },
   {
    "duration": 598,
    "start_time": "2024-10-19T17:42:48.834Z"
   },
   {
    "duration": 764,
    "start_time": "2024-10-19T17:42:49.434Z"
   },
   {
    "duration": 640,
    "start_time": "2024-10-19T17:42:50.200Z"
   },
   {
    "duration": 742,
    "start_time": "2024-10-19T17:42:50.843Z"
   },
   {
    "duration": 664,
    "start_time": "2024-10-19T17:42:51.588Z"
   },
   {
    "duration": 733,
    "start_time": "2024-10-19T17:42:52.253Z"
   },
   {
    "duration": 563,
    "start_time": "2024-10-19T17:42:52.988Z"
   },
   {
    "duration": 577,
    "start_time": "2024-10-19T17:42:53.555Z"
   },
   {
    "duration": 12,
    "start_time": "2024-10-19T17:42:54.133Z"
   },
   {
    "duration": 585,
    "start_time": "2024-10-19T17:42:54.147Z"
   },
   {
    "duration": 25,
    "start_time": "2024-10-19T17:42:54.734Z"
   },
   {
    "duration": 3,
    "start_time": "2024-10-19T17:42:54.761Z"
   },
   {
    "duration": 29,
    "start_time": "2024-10-19T17:42:54.766Z"
   },
   {
    "duration": 549,
    "start_time": "2024-10-19T17:42:54.797Z"
   },
   {
    "duration": 96,
    "start_time": "2024-10-19T17:42:55.348Z"
   },
   {
    "duration": 22,
    "start_time": "2024-10-19T17:42:55.445Z"
   },
   {
    "duration": 27,
    "start_time": "2024-10-19T17:42:55.469Z"
   },
   {
    "duration": 19,
    "start_time": "2024-10-19T17:42:55.497Z"
   },
   {
    "duration": 71,
    "start_time": "2024-10-19T17:42:55.518Z"
   },
   {
    "duration": 5,
    "start_time": "2024-10-19T17:42:55.591Z"
   },
   {
    "duration": 23,
    "start_time": "2024-10-19T17:42:55.597Z"
   },
   {
    "duration": 117,
    "start_time": "2024-10-19T17:42:55.621Z"
   },
   {
    "duration": 26,
    "start_time": "2024-10-19T17:43:16.441Z"
   },
   {
    "duration": 79,
    "start_time": "2024-10-19T17:45:17.884Z"
   },
   {
    "duration": 63,
    "start_time": "2024-10-19T17:45:43.270Z"
   },
   {
    "duration": 22,
    "start_time": "2024-10-19T17:45:49.396Z"
   },
   {
    "duration": 24,
    "start_time": "2024-10-19T17:46:28.806Z"
   },
   {
    "duration": 94,
    "start_time": "2024-10-19T17:47:02.458Z"
   },
   {
    "duration": 67,
    "start_time": "2024-10-19T17:47:20.050Z"
   },
   {
    "duration": 7,
    "start_time": "2024-10-19T17:47:27.463Z"
   },
   {
    "duration": 28,
    "start_time": "2024-10-19T17:48:16.652Z"
   },
   {
    "duration": 21,
    "start_time": "2024-10-19T17:48:52.869Z"
   },
   {
    "duration": 28,
    "start_time": "2024-10-19T17:49:19.854Z"
   },
   {
    "duration": 36,
    "start_time": "2024-10-19T17:50:44.788Z"
   },
   {
    "duration": 22,
    "start_time": "2024-10-19T17:50:58.469Z"
   },
   {
    "duration": 23,
    "start_time": "2024-10-19T17:51:13.934Z"
   },
   {
    "duration": 24,
    "start_time": "2024-10-19T17:51:25.195Z"
   },
   {
    "duration": 22,
    "start_time": "2024-10-19T17:54:12.490Z"
   },
   {
    "duration": 48,
    "start_time": "2024-10-19T17:54:24.113Z"
   },
   {
    "duration": 43,
    "start_time": "2024-10-19T17:55:08.745Z"
   },
   {
    "duration": 35,
    "start_time": "2024-10-19T17:56:10.728Z"
   },
   {
    "duration": 19,
    "start_time": "2024-10-19T17:56:32.158Z"
   },
   {
    "duration": 4,
    "start_time": "2024-10-19T17:58:24.589Z"
   },
   {
    "duration": 20,
    "start_time": "2024-10-19T17:59:03.113Z"
   },
   {
    "duration": 17,
    "start_time": "2024-10-19T17:59:09.784Z"
   },
   {
    "duration": 17,
    "start_time": "2024-10-19T17:59:21.780Z"
   },
   {
    "duration": 19,
    "start_time": "2024-10-19T17:59:29.897Z"
   },
   {
    "duration": 16,
    "start_time": "2024-10-19T17:59:41.365Z"
   },
   {
    "duration": 19,
    "start_time": "2024-10-19T17:59:41.833Z"
   },
   {
    "duration": 16,
    "start_time": "2024-10-19T17:59:42.248Z"
   },
   {
    "duration": 4,
    "start_time": "2024-10-19T18:00:06.233Z"
   },
   {
    "duration": 21,
    "start_time": "2024-10-19T18:00:06.660Z"
   },
   {
    "duration": 14,
    "start_time": "2024-10-19T18:00:07.854Z"
   },
   {
    "duration": 16,
    "start_time": "2024-10-19T18:00:10.857Z"
   },
   {
    "duration": 4,
    "start_time": "2024-10-19T18:05:55.679Z"
   },
   {
    "duration": 11,
    "start_time": "2024-10-19T18:06:11.172Z"
   },
   {
    "duration": 4,
    "start_time": "2024-10-19T18:06:31.039Z"
   },
   {
    "duration": 12,
    "start_time": "2024-10-19T18:06:31.448Z"
   },
   {
    "duration": 11,
    "start_time": "2024-10-19T18:08:17.743Z"
   },
   {
    "duration": 18,
    "start_time": "2024-10-19T18:09:01.282Z"
   },
   {
    "duration": 10,
    "start_time": "2024-10-19T18:09:22.093Z"
   },
   {
    "duration": 10,
    "start_time": "2024-10-19T18:09:28.161Z"
   },
   {
    "duration": 12,
    "start_time": "2024-10-19T18:10:17.687Z"
   },
   {
    "duration": 11,
    "start_time": "2024-10-19T18:11:15.874Z"
   },
   {
    "duration": 10,
    "start_time": "2024-10-19T18:11:22.119Z"
   },
   {
    "duration": 13,
    "start_time": "2024-10-19T18:11:26.508Z"
   },
   {
    "duration": 3,
    "start_time": "2024-10-19T18:12:38.979Z"
   },
   {
    "duration": 9,
    "start_time": "2024-10-19T18:12:40.139Z"
   },
   {
    "duration": 11,
    "start_time": "2024-10-19T18:13:12.122Z"
   },
   {
    "duration": 12,
    "start_time": "2024-10-19T18:13:18.051Z"
   },
   {
    "duration": 14,
    "start_time": "2024-10-19T18:18:04.366Z"
   },
   {
    "duration": 3,
    "start_time": "2024-10-19T18:18:07.658Z"
   },
   {
    "duration": 10,
    "start_time": "2024-10-19T18:18:08.110Z"
   },
   {
    "duration": 10,
    "start_time": "2024-10-19T18:18:24.681Z"
   },
   {
    "duration": 10,
    "start_time": "2024-10-19T18:18:25.178Z"
   },
   {
    "duration": 21418,
    "start_time": "2024-10-20T08:05:12.391Z"
   },
   {
    "duration": 3,
    "start_time": "2024-10-20T08:05:33.811Z"
   },
   {
    "duration": 1148,
    "start_time": "2024-10-20T08:05:33.815Z"
   },
   {
    "duration": 14,
    "start_time": "2024-10-20T08:05:34.965Z"
   },
   {
    "duration": 21,
    "start_time": "2024-10-20T08:05:34.981Z"
   },
   {
    "duration": 61,
    "start_time": "2024-10-20T08:05:35.004Z"
   },
   {
    "duration": 13,
    "start_time": "2024-10-20T08:05:35.066Z"
   },
   {
    "duration": 55,
    "start_time": "2024-10-20T08:05:35.081Z"
   },
   {
    "duration": 71,
    "start_time": "2024-10-20T08:05:35.137Z"
   },
   {
    "duration": 9,
    "start_time": "2024-10-20T08:05:35.210Z"
   },
   {
    "duration": 55,
    "start_time": "2024-10-20T08:05:35.221Z"
   },
   {
    "duration": 74,
    "start_time": "2024-10-20T08:05:35.277Z"
   },
   {
    "duration": 186,
    "start_time": "2024-10-20T08:05:35.353Z"
   },
   {
    "duration": 10,
    "start_time": "2024-10-20T08:05:35.542Z"
   },
   {
    "duration": 862,
    "start_time": "2024-10-20T08:05:35.554Z"
   },
   {
    "duration": 712,
    "start_time": "2024-10-20T08:05:36.418Z"
   },
   {
    "duration": 841,
    "start_time": "2024-10-20T08:05:37.132Z"
   },
   {
    "duration": 716,
    "start_time": "2024-10-20T08:05:37.974Z"
   },
   {
    "duration": 666,
    "start_time": "2024-10-20T08:05:38.692Z"
   },
   {
    "duration": 867,
    "start_time": "2024-10-20T08:05:39.360Z"
   },
   {
    "duration": 676,
    "start_time": "2024-10-20T08:05:40.229Z"
   },
   {
    "duration": 827,
    "start_time": "2024-10-20T08:05:40.907Z"
   },
   {
    "duration": 728,
    "start_time": "2024-10-20T08:05:41.735Z"
   },
   {
    "duration": 831,
    "start_time": "2024-10-20T08:05:42.464Z"
   },
   {
    "duration": 694,
    "start_time": "2024-10-20T08:05:43.297Z"
   },
   {
    "duration": 852,
    "start_time": "2024-10-20T08:05:43.993Z"
   },
   {
    "duration": 733,
    "start_time": "2024-10-20T08:05:44.847Z"
   },
   {
    "duration": 625,
    "start_time": "2024-10-20T08:05:45.582Z"
   },
   {
    "duration": 12,
    "start_time": "2024-10-20T08:05:46.209Z"
   },
   {
    "duration": 616,
    "start_time": "2024-10-20T08:05:46.223Z"
   },
   {
    "duration": 25,
    "start_time": "2024-10-20T08:05:46.841Z"
   },
   {
    "duration": 3,
    "start_time": "2024-10-20T08:05:46.868Z"
   },
   {
    "duration": 4,
    "start_time": "2024-10-20T08:05:46.873Z"
   },
   {
    "duration": 643,
    "start_time": "2024-10-20T08:05:46.879Z"
   },
   {
    "duration": 5,
    "start_time": "2024-10-20T08:05:47.525Z"
   },
   {
    "duration": 8,
    "start_time": "2024-10-20T08:05:47.622Z"
   },
   {
    "duration": 5,
    "start_time": "2024-10-20T08:05:47.633Z"
   },
   {
    "duration": 10,
    "start_time": "2024-10-20T08:05:47.640Z"
   },
   {
    "duration": 43,
    "start_time": "2024-10-20T08:05:47.652Z"
   },
   {
    "duration": 24,
    "start_time": "2024-10-20T08:05:47.696Z"
   },
   {
    "duration": 7,
    "start_time": "2024-10-20T08:05:47.724Z"
   },
   {
    "duration": 4,
    "start_time": "2024-10-20T08:05:47.733Z"
   },
   {
    "duration": 17,
    "start_time": "2024-10-20T08:05:47.739Z"
   },
   {
    "duration": 24,
    "start_time": "2024-10-20T08:05:47.758Z"
   },
   {
    "duration": 49,
    "start_time": "2024-10-20T08:05:47.784Z"
   },
   {
    "duration": 13,
    "start_time": "2024-10-20T08:05:47.835Z"
   },
   {
    "duration": 31,
    "start_time": "2024-10-20T08:05:47.851Z"
   },
   {
    "duration": 11,
    "start_time": "2024-10-20T08:05:47.884Z"
   },
   {
    "duration": 11,
    "start_time": "2024-10-20T08:05:47.897Z"
   },
   {
    "duration": 284,
    "start_time": "2024-10-20T08:44:07.763Z"
   },
   {
    "duration": 66,
    "start_time": "2024-10-20T08:44:30.581Z"
   },
   {
    "duration": 5985,
    "start_time": "2024-10-20T08:45:03.826Z"
   },
   {
    "duration": 1543,
    "start_time": "2024-10-20T08:45:23.387Z"
   },
   {
    "duration": 1663,
    "start_time": "2024-10-20T08:45:39.934Z"
   },
   {
    "duration": 1510,
    "start_time": "2024-10-20T08:45:46.631Z"
   },
   {
    "duration": 1675,
    "start_time": "2024-10-20T08:52:17.219Z"
   },
   {
    "duration": 1632,
    "start_time": "2024-10-20T08:53:04.471Z"
   },
   {
    "duration": 1663,
    "start_time": "2024-10-20T08:53:13.286Z"
   },
   {
    "duration": 1593,
    "start_time": "2024-10-20T08:55:09.670Z"
   },
   {
    "duration": 1586,
    "start_time": "2024-10-20T08:56:02.481Z"
   },
   {
    "duration": 1649,
    "start_time": "2024-10-20T08:56:26.484Z"
   },
   {
    "duration": 11,
    "start_time": "2024-10-20T09:02:35.609Z"
   },
   {
    "duration": 5,
    "start_time": "2024-10-20T09:02:50.230Z"
   },
   {
    "duration": 1329,
    "start_time": "2024-10-20T09:02:54.010Z"
   },
   {
    "duration": 35,
    "start_time": "2024-10-20T09:03:45.115Z"
   },
   {
    "duration": 5,
    "start_time": "2024-10-20T09:04:34.261Z"
   },
   {
    "duration": 1408,
    "start_time": "2024-10-20T09:04:34.804Z"
   },
   {
    "duration": 1325,
    "start_time": "2024-10-20T09:04:52.773Z"
   },
   {
    "duration": 1340,
    "start_time": "2024-10-20T09:04:58.611Z"
   },
   {
    "duration": 5,
    "start_time": "2024-10-20T09:05:55.256Z"
   },
   {
    "duration": 1161,
    "start_time": "2024-10-20T09:05:55.744Z"
   },
   {
    "duration": 1163,
    "start_time": "2024-10-20T09:06:12.626Z"
   },
   {
    "duration": 1162,
    "start_time": "2024-10-20T09:06:16.208Z"
   },
   {
    "duration": 5,
    "start_time": "2024-10-20T09:06:24.180Z"
   },
   {
    "duration": 1396,
    "start_time": "2024-10-20T09:06:24.509Z"
   },
   {
    "duration": 1357,
    "start_time": "2024-10-20T09:06:25.907Z"
   },
   {
    "duration": 1376,
    "start_time": "2024-10-20T09:06:27.266Z"
   },
   {
    "duration": 7,
    "start_time": "2024-10-20T09:09:23.641Z"
   },
   {
    "duration": 1325,
    "start_time": "2024-10-20T09:09:24.121Z"
   },
   {
    "duration": 1327,
    "start_time": "2024-10-20T09:09:25.448Z"
   },
   {
    "duration": 1302,
    "start_time": "2024-10-20T09:09:26.777Z"
   },
   {
    "duration": 6,
    "start_time": "2024-10-20T09:32:52.640Z"
   },
   {
    "duration": 1253,
    "start_time": "2024-10-20T09:32:53.084Z"
   },
   {
    "duration": 4,
    "start_time": "2024-10-20T09:33:03.607Z"
   },
   {
    "duration": 1319,
    "start_time": "2024-10-20T09:33:04.016Z"
   },
   {
    "duration": 5,
    "start_time": "2024-10-20T09:33:15.370Z"
   },
   {
    "duration": 1274,
    "start_time": "2024-10-20T09:33:18.103Z"
   },
   {
    "duration": 5,
    "start_time": "2024-10-20T09:33:34.906Z"
   },
   {
    "duration": 1293,
    "start_time": "2024-10-20T09:33:36.907Z"
   },
   {
    "duration": 1288,
    "start_time": "2024-10-20T09:33:46.041Z"
   },
   {
    "duration": 1290,
    "start_time": "2024-10-20T09:33:47.331Z"
   },
   {
    "duration": 7,
    "start_time": "2024-10-20T09:35:55.806Z"
   },
   {
    "duration": 1346,
    "start_time": "2024-10-20T09:35:56.860Z"
   },
   {
    "duration": 1331,
    "start_time": "2024-10-20T09:35:58.208Z"
   },
   {
    "duration": 1351,
    "start_time": "2024-10-20T09:35:59.541Z"
   },
   {
    "duration": 7,
    "start_time": "2024-10-20T09:36:54.120Z"
   },
   {
    "duration": 5108,
    "start_time": "2024-10-20T09:36:55.860Z"
   },
   {
    "duration": 6605,
    "start_time": "2024-10-20T09:37:00.970Z"
   },
   {
    "duration": 1362,
    "start_time": "2024-10-20T09:37:07.577Z"
   },
   {
    "duration": 6,
    "start_time": "2024-10-20T09:37:38.598Z"
   },
   {
    "duration": 1316,
    "start_time": "2024-10-20T09:37:40.948Z"
   },
   {
    "duration": 5,
    "start_time": "2024-10-20T09:38:02.803Z"
   },
   {
    "duration": 1304,
    "start_time": "2024-10-20T09:38:03.261Z"
   },
   {
    "duration": 1348,
    "start_time": "2024-10-20T09:38:04.567Z"
   },
   {
    "duration": 1335,
    "start_time": "2024-10-20T09:38:05.920Z"
   },
   {
    "duration": 64,
    "start_time": "2024-10-21T16:10:20.833Z"
   },
   {
    "duration": 20071,
    "start_time": "2024-10-21T16:11:15.655Z"
   },
   {
    "duration": 3,
    "start_time": "2024-10-21T16:11:35.728Z"
   },
   {
    "duration": 1903,
    "start_time": "2024-10-21T16:11:35.732Z"
   },
   {
    "duration": 14,
    "start_time": "2024-10-21T16:11:37.637Z"
   },
   {
    "duration": 29,
    "start_time": "2024-10-21T16:11:37.653Z"
   },
   {
    "duration": 40,
    "start_time": "2024-10-21T16:11:37.683Z"
   },
   {
    "duration": 10,
    "start_time": "2024-10-21T16:11:37.725Z"
   },
   {
    "duration": 28,
    "start_time": "2024-10-21T16:11:37.737Z"
   },
   {
    "duration": 40,
    "start_time": "2024-10-21T16:11:37.767Z"
   },
   {
    "duration": 11,
    "start_time": "2024-10-21T16:11:37.809Z"
   },
   {
    "duration": 41,
    "start_time": "2024-10-21T16:11:37.821Z"
   },
   {
    "duration": 48,
    "start_time": "2024-10-21T16:11:37.864Z"
   },
   {
    "duration": 153,
    "start_time": "2024-10-21T16:11:37.913Z"
   },
   {
    "duration": 12,
    "start_time": "2024-10-21T16:11:38.070Z"
   },
   {
    "duration": 815,
    "start_time": "2024-10-21T16:11:38.083Z"
   },
   {
    "duration": 690,
    "start_time": "2024-10-21T16:11:38.900Z"
   },
   {
    "duration": 824,
    "start_time": "2024-10-21T16:11:39.592Z"
   },
   {
    "duration": 652,
    "start_time": "2024-10-21T16:11:40.418Z"
   },
   {
    "duration": 775,
    "start_time": "2024-10-21T16:11:41.071Z"
   },
   {
    "duration": 667,
    "start_time": "2024-10-21T16:11:41.851Z"
   },
   {
    "duration": 650,
    "start_time": "2024-10-21T16:11:42.520Z"
   },
   {
    "duration": 833,
    "start_time": "2024-10-21T16:11:43.171Z"
   },
   {
    "duration": 650,
    "start_time": "2024-10-21T16:11:44.006Z"
   },
   {
    "duration": 795,
    "start_time": "2024-10-21T16:11:44.658Z"
   },
   {
    "duration": 689,
    "start_time": "2024-10-21T16:11:45.455Z"
   },
   {
    "duration": 813,
    "start_time": "2024-10-21T16:11:46.146Z"
   },
   {
    "duration": 651,
    "start_time": "2024-10-21T16:11:46.961Z"
   },
   {
    "duration": 623,
    "start_time": "2024-10-21T16:11:47.614Z"
   },
   {
    "duration": 625,
    "start_time": "2024-10-21T16:11:48.240Z"
   },
   {
    "duration": 22,
    "start_time": "2024-10-21T16:11:48.867Z"
   },
   {
    "duration": 50,
    "start_time": "2024-10-21T16:11:48.891Z"
   },
   {
    "duration": 81,
    "start_time": "2024-10-21T16:11:48.943Z"
   },
   {
    "duration": 182,
    "start_time": "2024-10-21T16:11:49.026Z"
   },
   {
    "duration": 0,
    "start_time": "2024-10-21T16:11:49.210Z"
   },
   {
    "duration": 0,
    "start_time": "2024-10-21T16:11:49.211Z"
   },
   {
    "duration": 0,
    "start_time": "2024-10-21T16:11:49.212Z"
   },
   {
    "duration": 1,
    "start_time": "2024-10-21T16:11:49.212Z"
   },
   {
    "duration": 0,
    "start_time": "2024-10-21T16:11:49.214Z"
   },
   {
    "duration": 0,
    "start_time": "2024-10-21T16:11:49.215Z"
   },
   {
    "duration": 0,
    "start_time": "2024-10-21T16:11:49.216Z"
   },
   {
    "duration": 0,
    "start_time": "2024-10-21T16:11:49.218Z"
   },
   {
    "duration": 0,
    "start_time": "2024-10-21T16:11:49.219Z"
   },
   {
    "duration": 0,
    "start_time": "2024-10-21T16:11:49.220Z"
   },
   {
    "duration": 0,
    "start_time": "2024-10-21T16:11:49.221Z"
   },
   {
    "duration": 0,
    "start_time": "2024-10-21T16:11:49.222Z"
   },
   {
    "duration": 0,
    "start_time": "2024-10-21T16:11:49.223Z"
   },
   {
    "duration": 0,
    "start_time": "2024-10-21T16:11:49.224Z"
   },
   {
    "duration": 0,
    "start_time": "2024-10-21T16:11:49.225Z"
   },
   {
    "duration": 1,
    "start_time": "2024-10-21T16:11:49.226Z"
   },
   {
    "duration": 556,
    "start_time": "2024-10-21T16:12:10.902Z"
   },
   {
    "duration": 5,
    "start_time": "2024-10-21T16:12:15.104Z"
   },
   {
    "duration": 3,
    "start_time": "2024-10-21T16:18:15.633Z"
   },
   {
    "duration": 4,
    "start_time": "2024-10-21T16:18:16.591Z"
   },
   {
    "duration": 6,
    "start_time": "2024-10-21T16:18:17.504Z"
   },
   {
    "duration": 4,
    "start_time": "2024-10-21T16:18:39.397Z"
   },
   {
    "duration": 6,
    "start_time": "2024-10-21T16:18:42.106Z"
   },
   {
    "duration": 36,
    "start_time": "2024-10-21T16:18:53.803Z"
   },
   {
    "duration": 3,
    "start_time": "2024-10-21T16:18:58.106Z"
   },
   {
    "duration": 6,
    "start_time": "2024-10-21T16:19:00.312Z"
   },
   {
    "duration": 4,
    "start_time": "2024-10-21T16:19:18.668Z"
   },
   {
    "duration": 17,
    "start_time": "2024-10-21T16:19:19.575Z"
   },
   {
    "duration": 17,
    "start_time": "2024-10-21T16:19:20.588Z"
   },
   {
    "duration": 18,
    "start_time": "2024-10-21T16:19:21.549Z"
   },
   {
    "duration": 3,
    "start_time": "2024-10-21T16:19:25.035Z"
   },
   {
    "duration": 4,
    "start_time": "2024-10-21T16:20:08.100Z"
   },
   {
    "duration": 9,
    "start_time": "2024-10-21T16:20:17.923Z"
   },
   {
    "duration": 1863,
    "start_time": "2024-10-21T16:20:22.589Z"
   },
   {
    "duration": 3,
    "start_time": "2024-10-21T16:22:38.040Z"
   },
   {
    "duration": 1711,
    "start_time": "2024-10-21T16:22:40.728Z"
   },
   {
    "duration": 12,
    "start_time": "2024-10-21T16:26:08.958Z"
   },
   {
    "duration": 20,
    "start_time": "2024-10-21T16:27:20.782Z"
   },
   {
    "duration": 9,
    "start_time": "2024-10-21T16:28:08.577Z"
   },
   {
    "duration": 7,
    "start_time": "2024-10-21T16:28:17.357Z"
   },
   {
    "duration": 34,
    "start_time": "2024-10-21T16:28:33.929Z"
   },
   {
    "duration": 19,
    "start_time": "2024-10-21T16:28:49.520Z"
   },
   {
    "duration": 7,
    "start_time": "2024-10-21T16:28:55.702Z"
   },
   {
    "duration": 1689,
    "start_time": "2024-10-21T16:30:48.474Z"
   },
   {
    "duration": 12,
    "start_time": "2024-10-21T16:30:55.577Z"
   },
   {
    "duration": 1693,
    "start_time": "2024-10-21T16:30:58.979Z"
   },
   {
    "duration": 1699,
    "start_time": "2024-10-21T16:31:05.092Z"
   },
   {
    "duration": 6,
    "start_time": "2024-10-21T16:32:49.444Z"
   },
   {
    "duration": 1788,
    "start_time": "2024-10-21T16:32:51.780Z"
   },
   {
    "duration": 12,
    "start_time": "2024-10-21T16:32:58.548Z"
   },
   {
    "duration": 1843,
    "start_time": "2024-10-21T16:33:02.780Z"
   },
   {
    "duration": 4,
    "start_time": "2024-10-21T16:34:37.566Z"
   },
   {
    "duration": 6,
    "start_time": "2024-10-21T16:34:39.787Z"
   },
   {
    "duration": 1726,
    "start_time": "2024-10-21T16:34:42.878Z"
   },
   {
    "duration": 4,
    "start_time": "2024-10-21T16:35:52.699Z"
   },
   {
    "duration": 6,
    "start_time": "2024-10-21T16:35:54.744Z"
   },
   {
    "duration": 1253,
    "start_time": "2024-10-21T16:35:56.343Z"
   },
   {
    "duration": 4,
    "start_time": "2024-10-21T16:37:14.163Z"
   },
   {
    "duration": 6,
    "start_time": "2024-10-21T16:37:16.669Z"
   },
   {
    "duration": 1255,
    "start_time": "2024-10-21T16:37:18.404Z"
   },
   {
    "duration": 12,
    "start_time": "2024-10-21T16:37:28.282Z"
   },
   {
    "duration": 1279,
    "start_time": "2024-10-21T16:37:33.297Z"
   },
   {
    "duration": 1266,
    "start_time": "2024-10-21T16:37:37.907Z"
   },
   {
    "duration": 20,
    "start_time": "2024-10-21T16:39:03.087Z"
   },
   {
    "duration": 7,
    "start_time": "2024-10-21T16:39:07.539Z"
   },
   {
    "duration": 3,
    "start_time": "2024-10-21T16:40:01.480Z"
   },
   {
    "duration": 8,
    "start_time": "2024-10-21T16:40:03.782Z"
   },
   {
    "duration": 1247,
    "start_time": "2024-10-21T16:40:05.936Z"
   },
   {
    "duration": 7,
    "start_time": "2024-10-21T16:40:46.713Z"
   },
   {
    "duration": 14,
    "start_time": "2024-10-21T16:40:48.687Z"
   },
   {
    "duration": 4,
    "start_time": "2024-10-21T16:41:23.823Z"
   },
   {
    "duration": 7,
    "start_time": "2024-10-21T16:41:25.922Z"
   },
   {
    "duration": 14,
    "start_time": "2024-10-21T16:41:28.018Z"
   },
   {
    "duration": 4,
    "start_time": "2024-10-21T16:42:17.164Z"
   },
   {
    "duration": 6,
    "start_time": "2024-10-21T16:42:19.308Z"
   },
   {
    "duration": 17,
    "start_time": "2024-10-21T16:42:21.759Z"
   },
   {
    "duration": 3,
    "start_time": "2024-10-21T16:42:58.558Z"
   },
   {
    "duration": 17,
    "start_time": "2024-10-21T16:43:01.741Z"
   },
   {
    "duration": 4,
    "start_time": "2024-10-21T16:43:26.116Z"
   },
   {
    "duration": 6,
    "start_time": "2024-10-21T16:43:28.203Z"
   },
   {
    "duration": 18,
    "start_time": "2024-10-21T16:43:30.315Z"
   },
   {
    "duration": 3,
    "start_time": "2024-10-21T16:43:50.049Z"
   },
   {
    "duration": 6,
    "start_time": "2024-10-21T16:43:52.829Z"
   },
   {
    "duration": 6202,
    "start_time": "2024-10-21T16:43:55.223Z"
   },
   {
    "duration": 4,
    "start_time": "2024-10-21T16:44:25.588Z"
   },
   {
    "duration": 5,
    "start_time": "2024-10-21T16:44:28.339Z"
   },
   {
    "duration": 872,
    "start_time": "2024-10-21T16:44:30.196Z"
   },
   {
    "duration": 887,
    "start_time": "2024-10-21T16:44:40.469Z"
   },
   {
    "duration": 865,
    "start_time": "2024-10-21T16:44:42.060Z"
   }
  ],
  "kernelspec": {
   "display_name": "Python 3 (ipykernel)",
   "language": "python",
   "name": "python3"
  },
  "language_info": {
   "codemirror_mode": {
    "name": "ipython",
    "version": 3
   },
   "file_extension": ".py",
   "mimetype": "text/x-python",
   "name": "python",
   "nbconvert_exporter": "python",
   "pygments_lexer": "ipython3",
   "version": "3.9.5"
  },
  "toc": {
   "base_numbering": 1,
   "nav_menu": {},
   "number_sections": true,
   "sideBar": true,
   "skip_h1_title": true,
   "title_cell": "Table of Contents",
   "title_sidebar": "Contents",
   "toc_cell": false,
   "toc_position": {
    "height": "calc(100% - 180px)",
    "left": "10px",
    "top": "150px",
    "width": "316.792px"
   },
   "toc_section_display": true,
   "toc_window_display": true
  }
 },
 "nbformat": 4,
 "nbformat_minor": 2
}
